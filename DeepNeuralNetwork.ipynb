{
 "cells": [
  {
   "cell_type": "markdown",
   "execution_count": null,
   "metadata": {},
   "outputs": [],
   "source": [
    "___\n",
    "# __Deep Neural Network from scratch__\n",
    "### _Author: Aki Taniguchi_\n",
    "### _Original date: 09/01/2020_\n",
    "### _Last update: 25/01/2020_\n",
    "___"
   ]
  },
  {
   "cell_type": "markdown",
   "execution_count": null,
   "metadata": {},
   "outputs": [],
   "source": [
    "## __I. Setting up the environment__\n",
    "___\n",
    "### _I.A. Loading libraries_\n",
    "First of all, we start by importing relevant libraries needed for the entire code.  \n",
    "We will also set up our hypothetical hyper-parameters to double check at each step whether the function is working as intended."
   ]
  },
  {
   "cell_type": "code",
   "execution_count": 1,
   "metadata": {},
   "outputs": [
    {
     "name": "stderr",
     "output_type": "stream",
     "text": "Using TensorFlow backend.\n"
    }
   ],
   "source": [
    "# Load libraries\n",
    "import numpy as np\n",
    "import matplotlib.pyplot as plt\n",
    "from keras.datasets import mnist\n",
    "# Note that keras is only used to load the base dataset called MNIST"
   ]
  },
  {
   "cell_type": "markdown",
   "execution_count": null,
   "metadata": {},
   "outputs": [],
   "source": [
    "### _I.B. Data processing_\n",
    "We will now load and process the MNIST data contained in keras datasets to have a concrete example on which we can test our neural network."
   ]
  },
  {
   "cell_type": "code",
   "execution_count": 2,
   "metadata": {},
   "outputs": [
    {
     "name": "stdout",
     "output_type": "stream",
     "text": "Number of observations: 12089, Number of features: 784\nNumber of outcome: 12089\nX shape: (12089, 784)\nY shape: (12089, 1)\n"
    }
   ],
   "source": [
    "# Load the base dataset using Keras MNIST Dataset, on which we only take 0 and 1 class as output values\n",
    "(x_train, y_train), (x_test, y_test) = mnist.load_data()\n",
    "\n",
    "class_0 = (y_train == 2)\n",
    "class_0 = class_0.tolist()\n",
    "class_0 = [i for i, x in enumerate(class_0) if x]\n",
    "class_1 = (y_train == 3)\n",
    "class_1 = class_1.tolist()\n",
    "class_1 = [i for i, x in enumerate(class_1) if x]\n",
    "\n",
    "index_key = class_0 + class_1\n",
    "\n",
    "X = x_train[index_key]\n",
    "Y = y_train[index_key]\n",
    "\n",
    "del (x_train, x_test, y_train, y_test)\n",
    "\n",
    "# We now have a binary outcome, between class_0 and class_1. Let's shuffle it a little so that the exercise is more interesting\n",
    "assert len(X) == len(Y)\n",
    "index_key = list(np.random.permutation(range(len(X))))\n",
    "X = X[index_key]\n",
    "Y = Y[index_key]\n",
    "\n",
    "\n",
    "# Data Processing\n",
    "\n",
    "# X has a shape of (m, n_x), m observations and n_x features\n",
    "# We transform the 28x28 pixel matrix into a 28^2 vector\n",
    "m = X.shape[0]\n",
    "n_x = np.power(X.shape[1], 2)\n",
    "X = X.reshape(m, n_x)\n",
    "\n",
    "# We also explicitly need to set Y column to be 1 (\"?\" by default in MNIST dataset)\n",
    "Y = Y.reshape(Y.shape[0], 1)\n",
    "\n",
    "# Given the outcome is a categorical, we need a one-hot encoding of Y\n",
    "Y = np.where(Y == 2, 0, 1)\n",
    "\n",
    "# Normalize X for quicker training\n",
    "X.astype(\"float64\")\n",
    "X = X/255\n",
    "\n",
    "# Now initializing the A matrix, used in the Deep Neural Network\n",
    "A = {}\n",
    "A[\"0\"] = X\n",
    "\n",
    "# Making sure that we have same number of observations for X (or A0) and Y\n",
    "assert Y.shape[0] == A[\"0\"].shape[0]\n",
    "\n",
    "# Show number of features and observations\n",
    "print(\"Number of observations: {0}, Number of features: {1}\".format(X.shape[0], X.shape[1]))\n",
    "print(\"Number of outcome: {0}\".format(Y.shape[0]))\n",
    "print(\"X shape:\", X.shape)\n",
    "print(\"Y shape:\", Y.shape)"
   ]
  },
  {
   "cell_type": "code",
   "execution_count": 3,
   "metadata": {},
   "outputs": [
    {
     "data": {
      "text/plain": "<matplotlib.image.AxesImage at 0x1ab849849e8>"
     },
     "execution_count": 3,
     "metadata": {},
     "output_type": "execute_result"
    },
    {
     "data": {
      "image/png": "[encoded data removed]",
      "image/svg+xml": "<?xml version=\"1.0\" encoding=\"utf-8\" standalone=\"no\"?>\r\n<!DOCTYPE svg PUBLIC \"-//W3C//DTD SVG 1.1//EN\"\r\n  \"http://www.w3.org/Graphics/SVG/1.1/DTD/svg11.dtd\">\r\n<!-- Created with matplotlib (https://matplotlib.org/) -->\r\n<svg height=\"252.018125pt\" version=\"1.1\" viewBox=\"0 0 255.065 252.018125\" width=\"255.065pt\" xmlns=\"http://www.w3.org/2000/svg\" xmlns:xlink=\"http://www.w3.org/1999/xlink\">\r\n <defs>\r\n  <style type=\"text/css\">\r\n*{stroke-linecap:butt;stroke-linejoin:round;}\r\n  </style>\r\n </defs>\r\n <g id=\"figure_1\">\r\n  <g id=\"patch_1\">\r\n   <path d=\"M 0 252.018125 \r\nL 255.065 252.018125 \r\nL 255.065 0 \r\nL 0 0 \r\nz\r\n\" style=\"fill:none;\"/>\r\n  </g>\r\n  <g id=\"axes_1\">\r\n   <g id=\"patch_2\">\r\n    <path d=\"M 26.925 228.14 \r\nL 244.365 228.14 \r\nL 244.365 10.7 \r\nL 26.925 10.7 \r\nz\r\n\" style=\"fill:#ffffff;\"/>\r\n   </g>\r\n   <g clip-path=\"url(#pfe85a60630)\">\r\n    <image height=\"218\" id=\"imagebc9ce938f6\" transform=\"scale(1 -1)translate(0 -218)\" width=\"218\" x=\"26.925\" xlink:href=\"data:image/png;base64,\r\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\" y=\"-10.14\"/>\r\n   </g>\r\n   <g id=\"matplotlib.axis_1\">\r\n    <g id=\"xtick_1\">\r\n     <g id=\"line2d_1\">\r\n      <defs>\r\n       <path d=\"M 0 0 \r\nL 0 3.5 \r\n\" id=\"mffb1c90228\" style=\"stroke:#000000;stroke-width:0.8;\"/>\r\n      </defs>\r\n      <g>\r\n       <use style=\"stroke:#000000;stroke-width:0.8;\" x=\"30.807857\" xlink:href=\"#mffb1c90228\" y=\"228.14\"/>\r\n      </g>\r\n     </g>\r\n     <g id=\"text_1\">\r\n      <!-- 0 -->\r\n      <defs>\r\n       <path d=\"M 31.78125 66.40625 \r\nQ 24.171875 66.40625 20.328125 58.90625 \r\nQ 16.5 51.421875 16.5 36.375 \r\nQ 16.5 21.390625 20.328125 13.890625 \r\nQ 24.171875 6.390625 31.78125 6.390625 \r\nQ 39.453125 6.390625 43.28125 13.890625 \r\nQ 47.125 21.390625 47.125 36.375 \r\nQ 47.125 51.421875 43.28125 58.90625 \r\nQ 39.453125 66.40625 31.78125 66.40625 \r\nz\r\nM 31.78125 74.21875 \r\nQ 44.046875 74.21875 50.515625 64.515625 \r\nQ 56.984375 54.828125 56.984375 36.375 \r\nQ 56.984375 17.96875 50.515625 8.265625 \r\nQ 44.046875 -1.421875 31.78125 -1.421875 \r\nQ 19.53125 -1.421875 13.0625 8.265625 \r\nQ 6.59375 17.96875 6.59375 36.375 \r\nQ 6.59375 54.828125 13.0625 64.515625 \r\nQ 19.53125 74.21875 31.78125 74.21875 \r\nz\r\n\" id=\"DejaVuSans-48\"/>\r\n      </defs>\r\n      <g transform=\"translate(27.626607 242.738437)scale(0.1 -0.1)\">\r\n       <use xlink:href=\"#DejaVuSans-48\"/>\r\n      </g>\r\n     </g>\r\n    </g>\r\n    <g id=\"xtick_2\">\r\n     <g id=\"line2d_2\">\r\n      <g>\r\n       <use style=\"stroke:#000000;stroke-width:0.8;\" x=\"69.636429\" xlink:href=\"#mffb1c90228\" y=\"228.14\"/>\r\n      </g>\r\n     </g>\r\n     <g id=\"text_2\">\r\n      <!-- 5 -->\r\n      <defs>\r\n       <path d=\"M 10.796875 72.90625 \r\nL 49.515625 72.90625 \r\nL 49.515625 64.59375 \r\nL 19.828125 64.59375 \r\nL 19.828125 46.734375 \r\nQ 21.96875 47.46875 24.109375 47.828125 \r\nQ 26.265625 48.1875 28.421875 48.1875 \r\nQ 40.625 48.1875 47.75 41.5 \r\nQ 54.890625 34.8125 54.890625 23.390625 \r\nQ 54.890625 11.625 47.5625 5.09375 \r\nQ 40.234375 -1.421875 26.90625 -1.421875 \r\nQ 22.3125 -1.421875 17.546875 -0.640625 \r\nQ 12.796875 0.140625 7.71875 1.703125 \r\nL 7.71875 11.625 \r\nQ 12.109375 9.234375 16.796875 8.0625 \r\nQ 21.484375 6.890625 26.703125 6.890625 \r\nQ 35.15625 6.890625 40.078125 11.328125 \r\nQ 45.015625 15.765625 45.015625 23.390625 \r\nQ 45.015625 31 40.078125 35.4375 \r\nQ 35.15625 39.890625 26.703125 39.890625 \r\nQ 22.75 39.890625 18.8125 39.015625 \r\nQ 14.890625 38.140625 10.796875 36.28125 \r\nz\r\n\" id=\"DejaVuSans-53\"/>\r\n      </defs>\r\n      <g transform=\"translate(66.455179 242.738437)scale(0.1 -0.1)\">\r\n       <use xlink:href=\"#DejaVuSans-53\"/>\r\n      </g>\r\n     </g>\r\n    </g>\r\n    <g id=\"xtick_3\">\r\n     <g id=\"line2d_3\">\r\n      <g>\r\n       <use style=\"stroke:#000000;stroke-width:0.8;\" x=\"108.465\" xlink:href=\"#mffb1c90228\" y=\"228.14\"/>\r\n      </g>\r\n     </g>\r\n     <g id=\"text_3\">\r\n      <!-- 10 -->\r\n      <defs>\r\n       <path d=\"M 12.40625 8.296875 \r\nL 28.515625 8.296875 \r\nL 28.515625 63.921875 \r\nL 10.984375 60.40625 \r\nL 10.984375 69.390625 \r\nL 28.421875 72.90625 \r\nL 38.28125 72.90625 \r\nL 38.28125 8.296875 \r\nL 54.390625 8.296875 \r\nL 54.390625 0 \r\nL 12.40625 0 \r\nz\r\n\" id=\"DejaVuSans-49\"/>\r\n      </defs>\r\n      <g transform=\"translate(102.1025 242.738437)scale(0.1 -0.1)\">\r\n       <use xlink:href=\"#DejaVuSans-49\"/>\r\n       <use x=\"63.623047\" xlink:href=\"#DejaVuSans-48\"/>\r\n      </g>\r\n     </g>\r\n    </g>\r\n    <g id=\"xtick_4\">\r\n     <g id=\"line2d_4\">\r\n      <g>\r\n       <use style=\"stroke:#000000;stroke-width:0.8;\" x=\"147.293571\" xlink:href=\"#mffb1c90228\" y=\"228.14\"/>\r\n      </g>\r\n     </g>\r\n     <g id=\"text_4\">\r\n      <!-- 15 -->\r\n      <g transform=\"translate(140.931071 242.738437)scale(0.1 -0.1)\">\r\n       <use xlink:href=\"#DejaVuSans-49\"/>\r\n       <use x=\"63.623047\" xlink:href=\"#DejaVuSans-53\"/>\r\n      </g>\r\n     </g>\r\n    </g>\r\n    <g id=\"xtick_5\">\r\n     <g id=\"line2d_5\">\r\n      <g>\r\n       <use style=\"stroke:#000000;stroke-width:0.8;\" x=\"186.122143\" xlink:href=\"#mffb1c90228\" y=\"228.14\"/>\r\n      </g>\r\n     </g>\r\n     <g id=\"text_5\">\r\n      <!-- 20 -->\r\n      <defs>\r\n       <path d=\"M 19.1875 8.296875 \r\nL 53.609375 8.296875 \r\nL 53.609375 0 \r\nL 7.328125 0 \r\nL 7.328125 8.296875 \r\nQ 12.9375 14.109375 22.625 23.890625 \r\nQ 32.328125 33.6875 34.8125 36.53125 \r\nQ 39.546875 41.84375 41.421875 45.53125 \r\nQ 43.3125 49.21875 43.3125 52.78125 \r\nQ 43.3125 58.59375 39.234375 62.25 \r\nQ 35.15625 65.921875 28.609375 65.921875 \r\nQ 23.96875 65.921875 18.8125 64.3125 \r\nQ 13.671875 62.703125 7.8125 59.421875 \r\nL 7.8125 69.390625 \r\nQ 13.765625 71.78125 18.9375 73 \r\nQ 24.125 74.21875 28.421875 74.21875 \r\nQ 39.75 74.21875 46.484375 68.546875 \r\nQ 53.21875 62.890625 53.21875 53.421875 \r\nQ 53.21875 48.921875 51.53125 44.890625 \r\nQ 49.859375 40.875 45.40625 35.40625 \r\nQ 44.1875 33.984375 37.640625 27.21875 \r\nQ 31.109375 20.453125 19.1875 8.296875 \r\nz\r\n\" id=\"DejaVuSans-50\"/>\r\n      </defs>\r\n      <g transform=\"translate(179.759643 242.738437)scale(0.1 -0.1)\">\r\n       <use xlink:href=\"#DejaVuSans-50\"/>\r\n       <use x=\"63.623047\" xlink:href=\"#DejaVuSans-48\"/>\r\n      </g>\r\n     </g>\r\n    </g>\r\n    <g id=\"xtick_6\">\r\n     <g id=\"line2d_6\">\r\n      <g>\r\n       <use style=\"stroke:#000000;stroke-width:0.8;\" x=\"224.950714\" xlink:href=\"#mffb1c90228\" y=\"228.14\"/>\r\n      </g>\r\n     </g>\r\n     <g id=\"text_6\">\r\n      <!-- 25 -->\r\n      <g transform=\"translate(218.588214 242.738437)scale(0.1 -0.1)\">\r\n       <use xlink:href=\"#DejaVuSans-50\"/>\r\n       <use x=\"63.623047\" xlink:href=\"#DejaVuSans-53\"/>\r\n      </g>\r\n     </g>\r\n    </g>\r\n   </g>\r\n   <g id=\"matplotlib.axis_2\">\r\n    <g id=\"ytick_1\">\r\n     <g id=\"line2d_7\">\r\n      <defs>\r\n       <path d=\"M 0 0 \r\nL -3.5 0 \r\n\" id=\"m892d339d80\" style=\"stroke:#000000;stroke-width:0.8;\"/>\r\n      </defs>\r\n      <g>\r\n       <use style=\"stroke:#000000;stroke-width:0.8;\" x=\"26.925\" xlink:href=\"#m892d339d80\" y=\"14.582857\"/>\r\n      </g>\r\n     </g>\r\n     <g id=\"text_7\">\r\n      <!-- 0 -->\r\n      <g transform=\"translate(13.5625 18.382076)scale(0.1 -0.1)\">\r\n       <use xlink:href=\"#DejaVuSans-48\"/>\r\n      </g>\r\n     </g>\r\n    </g>\r\n    <g id=\"ytick_2\">\r\n     <g id=\"line2d_8\">\r\n      <g>\r\n       <use style=\"stroke:#000000;stroke-width:0.8;\" x=\"26.925\" xlink:href=\"#m892d339d80\" y=\"53.411429\"/>\r\n      </g>\r\n     </g>\r\n     <g id=\"text_8\">\r\n      <!-- 5 -->\r\n      <g transform=\"translate(13.5625 57.210647)scale(0.1 -0.1)\">\r\n       <use xlink:href=\"#DejaVuSans-53\"/>\r\n      </g>\r\n     </g>\r\n    </g>\r\n    <g id=\"ytick_3\">\r\n     <g id=\"line2d_9\">\r\n      <g>\r\n       <use style=\"stroke:#000000;stroke-width:0.8;\" x=\"26.925\" xlink:href=\"#m892d339d80\" y=\"92.24\"/>\r\n      </g>\r\n     </g>\r\n     <g id=\"text_9\">\r\n      <!-- 10 -->\r\n      <g transform=\"translate(7.2 96.039219)scale(0.1 -0.1)\">\r\n       <use xlink:href=\"#DejaVuSans-49\"/>\r\n       <use x=\"63.623047\" xlink:href=\"#DejaVuSans-48\"/>\r\n      </g>\r\n     </g>\r\n    </g>\r\n    <g id=\"ytick_4\">\r\n     <g id=\"line2d_10\">\r\n      <g>\r\n       <use style=\"stroke:#000000;stroke-width:0.8;\" x=\"26.925\" xlink:href=\"#m892d339d80\" y=\"131.068571\"/>\r\n      </g>\r\n     </g>\r\n     <g id=\"text_10\">\r\n      <!-- 15 -->\r\n      <g transform=\"translate(7.2 134.86779)scale(0.1 -0.1)\">\r\n       <use xlink:href=\"#DejaVuSans-49\"/>\r\n       <use x=\"63.623047\" xlink:href=\"#DejaVuSans-53\"/>\r\n      </g>\r\n     </g>\r\n    </g>\r\n    <g id=\"ytick_5\">\r\n     <g id=\"line2d_11\">\r\n      <g>\r\n       <use style=\"stroke:#000000;stroke-width:0.8;\" x=\"26.925\" xlink:href=\"#m892d339d80\" y=\"169.897143\"/>\r\n      </g>\r\n     </g>\r\n     <g id=\"text_11\">\r\n      <!-- 20 -->\r\n      <g transform=\"translate(7.2 173.696362)scale(0.1 -0.1)\">\r\n       <use xlink:href=\"#DejaVuSans-50\"/>\r\n       <use x=\"63.623047\" xlink:href=\"#DejaVuSans-48\"/>\r\n      </g>\r\n     </g>\r\n    </g>\r\n    <g id=\"ytick_6\">\r\n     <g id=\"line2d_12\">\r\n      <g>\r\n       <use style=\"stroke:#000000;stroke-width:0.8;\" x=\"26.925\" xlink:href=\"#m892d339d80\" y=\"208.725714\"/>\r\n      </g>\r\n     </g>\r\n     <g id=\"text_12\">\r\n      <!-- 25 -->\r\n      <g transform=\"translate(7.2 212.524933)scale(0.1 -0.1)\">\r\n       <use xlink:href=\"#DejaVuSans-50\"/>\r\n       <use x=\"63.623047\" xlink:href=\"#DejaVuSans-53\"/>\r\n      </g>\r\n     </g>\r\n    </g>\r\n   </g>\r\n   <g id=\"patch_3\">\r\n    <path d=\"M 26.925 228.14 \r\nL 26.925 10.7 \r\n\" style=\"fill:none;stroke:#000000;stroke-linecap:square;stroke-linejoin:miter;stroke-width:0.8;\"/>\r\n   </g>\r\n   <g id=\"patch_4\">\r\n    <path d=\"M 244.365 228.14 \r\nL 244.365 10.7 \r\n\" style=\"fill:none;stroke:#000000;stroke-linecap:square;stroke-linejoin:miter;stroke-width:0.8;\"/>\r\n   </g>\r\n   <g id=\"patch_5\">\r\n    <path d=\"M 26.925 228.14 \r\nL 244.365 228.14 \r\n\" style=\"fill:none;stroke:#000000;stroke-linecap:square;stroke-linejoin:miter;stroke-width:0.8;\"/>\r\n   </g>\r\n   <g id=\"patch_6\">\r\n    <path d=\"M 26.925 10.7 \r\nL 244.365 10.7 \r\n\" style=\"fill:none;stroke:#000000;stroke-linecap:square;stroke-linejoin:miter;stroke-width:0.8;\"/>\r\n   </g>\r\n  </g>\r\n </g>\r\n <defs>\r\n  <clipPath id=\"pfe85a60630\">\r\n   <rect height=\"217.44\" width=\"217.44\" x=\"26.925\" y=\"10.7\"/>\r\n  </clipPath>\r\n </defs>\r\n</svg>\r\n",
      "text/plain": "<Figure size 432x288 with 1 Axes>"
     },
     "metadata": {
      "needs_background": "light"
     },
     "output_type": "display_data"
    }
   ],
   "source": [
    "# Let us see what the pictures look like. The index can be changed up to m\n",
    "ind = 10000\n",
    "plt.imshow(A[\"0\"][ind].reshape(28,28))"
   ]
  },
  {
   "cell_type": "markdown",
   "execution_count": null,
   "metadata": {},
   "outputs": [],
   "source": [
    "### _I.C. Default Hyperparameter tuning_\n",
    "Now that we have our dataset, we will set up the default Hyperparameter to use in order to test our algorithm."
   ]
  },
  {
   "cell_type": "code",
   "execution_count": 4,
   "metadata": {},
   "outputs": [],
   "source": [
    "# Setting up the hyper-parameters of the Deep Neural Network\n",
    "\n",
    "# Number of Layer and Number of Neuron in each layer\n",
    "# Input layer not included, last number should be number of Neuron for the output layer\n",
    "nb_layer = 3\n",
    "neuron_quantity = [4, 3, 1]\n",
    "assert len(neuron_quantity) == nb_layer\n",
    "\n",
    "# Define Activation function (needs to be same length as neuron Quantity)\n",
    "activations = [\"none\", \"relu\", \"relu\", \"sigmoid\"]\n",
    "assert len(activations) == nb_layer + 1"
   ]
  },
  {
   "cell_type": "markdown",
   "execution_count": null,
   "metadata": {},
   "outputs": [],
   "source": [
    "## II. Initialize parameters\n",
    "___\n",
    "We need to initialize the model parameters by assigning the following:\n",
    "- for the weights (W), random numbers which have (n_l-1, n_l) dimension. They can't be assigned 0 due to Neural Network being unable to \"break symmetry\". However, we want them to be close to 0, so that the gradient descent works more efficiently (steeper curve around 0 for each activation function). \n",
    "- for biases (b), zero values which have (1, n_l) dimension.\n",
    "\n",
    "\n",
    "Note that the weight initialization follows the \"He et al.\" rule, e.g.:\n",
    "$$W^{[l]} = \\mathcal{N}(0, 1) * \\sqrt{\\frac{2}{n^{[l-1]}}}$$\n",
    "With:\n",
    "$$dimW^{[l]} = (n^{[l-1]}, n^{[l]})$$"
   ]
  },
  {
   "cell_type": "code",
   "execution_count": 5,
   "metadata": {},
   "outputs": [],
   "source": [
    "def initialize_parameters(nb_layer, neuron_quantity, A):\n",
    "\n",
    "    W = {}; b = {}; nb_neuron = {}\n",
    "    L = nb_layer\n",
    "\n",
    "    # Define number of Neuron, based on input so that we can set up the dimension of each parameter\n",
    "    # The first dimension of the number of Neuron is the number of features (X), which corresponds to A[\"0\"].\n",
    "    nb_neuron[\"0\"] = A[\"0\"].shape[1]\n",
    "    for l in range(1, nb_layer+1):\n",
    "        nb_neuron[str(l)] = neuron_quantity[l-1]\n",
    "\n",
    "    # Initializing parameters as defined above\n",
    "    for l in range(1, L+1):\n",
    "        W[str(l)] = np.random.randn(nb_neuron[str(l-1)], nb_neuron[str(l)]) * np.sqrt(2/nb_neuron[str(l-1)])\n",
    "        b[str(l)] = np.zeros((1, nb_neuron[str(l)]))\n",
    "\n",
    "    return W, b"
   ]
  },
  {
   "cell_type": "code",
   "execution_count": 6,
   "metadata": {},
   "outputs": [
    {
     "name": "stdout",
     "output_type": "stream",
     "text": "W {'1': array([[-0.04913076,  0.08143311, -0.00656477,  0.01813978],\n       [-0.04815778,  0.0491001 , -0.03775359,  0.04103352],\n       [-0.0516538 , -0.0158238 ,  0.03665995,  0.01286588],\n       ...,\n       [ 0.06192295,  0.05572182, -0.01645127,  0.09499402],\n       [ 0.09626794,  0.05208633, -0.06349296, -0.00066804],\n       [-0.09731242, -0.07513784,  0.00347835,  0.0157113 ]]), '2': array([[ 1.04242348,  0.98795913, -0.00451982],\n       [ 0.2247792 , -0.63279144, -0.51482374],\n       [-0.9221519 , -0.59790809, -0.50878195],\n       [-0.32782927,  0.86880052,  0.02117861]]), '3': array([[-0.06018532],\n       [-0.09156316],\n       [ 0.0364824 ]])}\nb {'1': array([[0., 0., 0., 0.]]), '2': array([[0., 0., 0.]]), '3': array([[0.]])}\nW[ 1 ] shape: (784, 4)\nb[ 1 ] shape: (1, 4)\nW[ 2 ] shape: (4, 3)\nb[ 2 ] shape: (1, 3)\nW[ 3 ] shape: (3, 1)\nb[ 3 ] shape: (1, 1)\n"
    }
   ],
   "source": [
    "# Double check if the function works well (both value and dimension) (W, b)\n",
    "W, b = initialize_parameters(nb_layer, neuron_quantity, A)\n",
    "\n",
    "print(\"W\", W)\n",
    "print(\"b\", b)\n",
    "for i in range(1, nb_layer+1):\n",
    "    print(\"W[\", str(i),\"] shape:\", W[str(i)].shape)\n",
    "    print(\"b[\", str(i),\"] shape:\", b[str(i)].shape)"
   ]
  },
  {
   "cell_type": "markdown",
   "execution_count": null,
   "metadata": {},
   "outputs": [],
   "source": [
    "## III. Forward propagation\n",
    "___\n",
    "We first need to define how to compute the activation function.  \n",
    "Once the activation function is defined, we are ready to compute the linear function Z and its respective activated output A.  \n",
    "Reminder of the formulas:\n",
    "$$Z^{[l]} = W^{[l]} A^{[l-1]} + b^{[l]} \\tag{1} $$  \n",
    "Technically $Z^{[l]} = A^{[l-1]} W^{[l]} + b^{[l]}$ if observations are in rows, which is the case in this paper.  \n",
    "\n",
    "And each activation function as follows:  \n",
    "$$Linear = Z^{[l]}$$\n",
    "$$ReLU = max(0, Z^{[l]})$$\n",
    "$$LeakyReLU = max(0.01*Z^{[l]}, Z^{[l]})$$\n",
    "$$Sigmoid = \\frac{1}{1 + e^{-Z^{[l]}}}$$\n",
    "$$Tanh = \\frac{e^{Z^{[l]}} - e^{-Z^{[l]}}}{e^{Z^{[l]}} + e^{-Z^{[l]}}} \\tag{2} $$\n",
    "Therefore, g(Z) is the forward propagation and returns $x^{[l]}_{i} = y^{[l-1]}_{i}$ which will be used in the following layer.  \n",
    "Note the dimension of both Z and A needs to be (m, n_l)."
   ]
  },
  {
   "cell_type": "code",
   "execution_count": 7,
   "metadata": {},
   "outputs": [],
   "source": [
    "# Defining the helper function to compute the activation (fx(Z))\n",
    "# We only treat Linear / ReLU / LeakyReLU / Tanh / Sigmoid funcions\n",
    "def activation_function(activation_name, Z):\n",
    "    if activation_name == \"linear\":\n",
    "        fx = Z\n",
    "    elif activation_name == \"relu\":\n",
    "        fx = np.maximum(0, Z)\n",
    "    elif activation_name == \"leakyRelu\":\n",
    "        fx = np.maximum(Z*0.01, Z)\n",
    "    elif activation_name == \"tanh\":\n",
    "        fx = (np.exp(Z) - np.exp(-Z)) / (np.exp(Z) + np.exp(-Z))\n",
    "    elif activation_name == \"sigmoid\":\n",
    "        fx = 1 / (1 + np.exp(-Z))\n",
    "    else:\n",
    "        fx = \"No function associated with: \" + activation_name + \"!\"\n",
    "\n",
    "    return fx      "
   ]
  },
  {
   "cell_type": "code",
   "execution_count": 8,
   "metadata": {},
   "outputs": [],
   "source": [
    "# Calculate the forward propagation for each layer (Z, A)\n",
    "# A is the feature/result matrix\n",
    "# Note that both A and Z will be used in the backward propagation computation, hence the need to store them into variables\n",
    "def forward_propagation(nb_layer, W, b, A, fx):\n",
    "    \n",
    "    L = nb_layer; Z = {}\n",
    "\n",
    "    for l in range(1, L+1):\n",
    "        Z[str(l)] = np.dot(A[str(l-1)], W[str(l)]) + b[str(l)]\n",
    "        A[str(l)] = activation_function(fx[l], Z[str(l)])\n",
    "    \n",
    "    return A, Z"
   ]
  },
  {
   "cell_type": "code",
   "execution_count": 9,
   "metadata": {},
   "outputs": [
    {
     "name": "stdout",
     "output_type": "stream",
     "text": "0 :  No function associated with: none!\n1 :  0\n2 :  0\n3 :  0.2689414213699951\nA {'0': array([[0., 0., 0., ..., 0., 0., 0.],\n       [0., 0., 0., ..., 0., 0., 0.],\n       [0., 0., 0., ..., 0., 0., 0.],\n       ...,\n       [0., 0., 0., ..., 0., 0., 0.],\n       [0., 0., 0., ..., 0., 0., 0.],\n       [0., 0., 0., ..., 0., 0., 0.]]), '1': array([[0.        , 0.03708231, 0.        , 0.61187328],\n       [0.        , 0.4234924 , 0.        , 0.30499353],\n       [0.        , 0.35986782, 0.        , 0.75400464],\n       ...,\n       [0.        , 0.1786732 , 0.        , 0.41050465],\n       [0.        , 0.54061277, 0.        , 0.52522065],\n       [0.        , 0.1568998 , 0.        , 0.70361397]]), '2': array([[0.        , 0.50813046, 0.        ],\n       [0.        , 0.        , 0.        ],\n       [0.        , 0.42735835, 0.        ],\n       ...,\n       [0.        , 0.24358378, 0.        ],\n       [0.        , 0.11421684, 0.        ],\n       [0.        , 0.51201534, 0.        ]]), '3': array([[0.48837059],\n       [0.5       ],\n       [0.49021868],\n       ...,\n       [0.49442441],\n       [0.49738551],\n       [0.48828171]])}\nZ {'1': array([[-0.71779335,  0.03708231, -0.91012835,  0.61187328],\n       [-0.80657672,  0.4234924 , -1.09855862,  0.30499353],\n       [-0.47004407,  0.35986782, -1.17767547,  0.75400464],\n       ...,\n       [-0.20429168,  0.1786732 , -0.42753962,  0.41050465],\n       [-0.22076225,  0.54061277, -0.68679842,  0.52522065],\n       [-1.46993392,  0.1568998 , -1.16275912,  0.70361397]]), '2': array([[-0.19225464,  0.50813046, -0.00613223],\n       [-0.00479352, -0.00300383, -0.2115646 ],\n       [-0.16629399,  0.42735835, -0.16929973],\n       ...,\n       [-0.09441342,  0.24358378, -0.08329129],\n       [-0.0506642 ,  0.11421684, -0.26719684],\n       [-0.19539744,  0.51201534, -0.06587417]]), '3': array([[-0.04652603],\n       [ 0.        ],\n       [-0.03913028],\n       ...,\n       [-0.0223033 ],\n       [-0.01045805],\n       [-0.04688174]])}\nA[ 1 ] shape: (12089, 4)\nZ[ 1 ] shape: (12089, 4)\nA[ 2 ] shape: (12089, 3)\nZ[ 2 ] shape: (12089, 3)\nA[ 3 ] shape: (12089, 1)\nZ[ 3 ] shape: (12089, 1)\n"
    }
   ],
   "source": [
    "# Check if Activation function is working correctly\n",
    "nb_check = -1\n",
    "for i in range(0, nb_layer+1):\n",
    "    check = activation_function(activations[i], nb_check)\n",
    "    print(i, \": \", check)\n",
    "\n",
    "# Check if forward propagtion is working correctly (need to run previous check cell)\n",
    "A, Z = forward_propagation(nb_layer, W, b, A, activations)\n",
    "\n",
    "print(\"A\", A)\n",
    "print(\"Z\", Z)\n",
    "for i in range(1, nb_layer+1):\n",
    "    print(\"A[\", str(i),\"] shape:\", A[str(i)].shape)\n",
    "    print(\"Z[\", str(i),\"] shape:\", Z[str(i)].shape)"
   ]
  },
  {
   "cell_type": "markdown",
   "execution_count": null,
   "metadata": {},
   "outputs": [],
   "source": [
    "## IV. Calculate Cost\n",
    "___\n",
    "In this piece of code, we are creating an image recognition engine. Therefore, we use a logistic regression based neural network output, which means the cost function is the maximum likelihood estimation.  \n",
    "\n",
    "For m observations, we have:\n",
    "$$Cost = -\\frac{1}{m} \\sum \\limits_{i=1}^{m} {(y_{i} \\log \\left(a^{[L]}_{i} \\right) + (1-y_{i}) \\log \\left(1-a^{[L]}_{i} \\right)) } \\tag{3} $$"
   ]
  },
  {
   "cell_type": "code",
   "execution_count": 10,
   "metadata": {},
   "outputs": [],
   "source": [
    "# Compute Cost (Average of Loss)\n",
    "def compute_cost(AL, Y):\n",
    "\n",
    "    m = Y.shape[0]\n",
    "    e = 1e-10\n",
    "    cost = -(1/m) * np.sum((Y * np.log(AL+e)) + (1-Y) * np.log(1-AL+e))\n",
    "    \n",
    "    return cost"
   ]
  },
  {
   "cell_type": "code",
   "execution_count": 11,
   "metadata": {},
   "outputs": [
    {
     "name": "stdout",
     "output_type": "stream",
     "text": "0.6915684363320475\n"
    }
   ],
   "source": [
    "# Check if the cost function works\n",
    "cost = compute_cost(A[str(nb_layer)], Y)\n",
    "print(cost)"
   ]
  },
  {
   "cell_type": "markdown",
   "execution_count": null,
   "metadata": {},
   "outputs": [],
   "source": [
    "## V. Backward Propagation\n",
    "___\n",
    "Now that we have the output as well as the cost function computed thanks to the forward propagation, we need to go backward to update the parameters.  \n",
    "\n",
    "The best set of parameters which minimizes the cost function are the set of points where the first derivative is equal to 0. Thankfully, the cost function is convex, therefore the local minimum is a global minimum.  \n",
    "\n",
    "However, the best set cannot be found as there is no closed-form equation to solve. The most efficient way is to use gradient descent, which is a method to find the minimum point iteratively, by substracting its slope (at the point of the moment). Effectively, if the slope is positive, this mean the minimum is \"on the left\", and the new parameter is small (x - s < x, with s > 0). Conversely, if we find out the slope is negative, the minimum is \"on the right\", so we get a bigger new parameter (x - s > x, given s < 0). Thus, substracting the slope at a given rate pushes to the right direction in finding the local minimum.  \n",
    "\n",
    "We therefore understand that we need to compute the slope e.g. derivative on each point. To get the parameter derivative (dW, db), we will proceed using the chain rule (derivee de fonction composee). Let us start with dA and dZ, the derivative of the forward propagtion. Formulas are given as (in the order of backwardation):\n",
    "$$dA^{[L]} = \\frac{\\partial Cost}{\\partial A^{[L]}} = \\frac{-Y}{A^{[L]}} + \\frac{(1-Y)}{(1-A^{[L]})} \\tag{4}$$\n",
    "$$dZ^{[L]} = \\frac{\\partial Cost}{\\partial A^{[L]}} \\frac{\\partial A^{[L]}}{\\partial Z^{[L]}} = dA^{[L]} * g'(Z^{[L]}) \\tag{5}$$\n",
    "Now remind that, as per equation (1):\n",
    "$$Z^{[l]} = W^{[l]} A^{[l-1]} + b^{[l]}$$\n",
    "It follows that:\n",
    "$$dA^{[L-1]} = \\frac{\\partial Cost}{\\partial A^{[L]}} \\frac{\\partial A^{[L]}}{\\partial Z^{[L]}} \\frac{\\partial Z^{[L]}}{\\partial A^{[L-1]}} = dZ^{[L]}W'^{[L]}$$\n",
    "Which can be generalized as:\n",
    "$$dA^{[l-1]} = dZ^{[l]}W'^{[l]} \\tag{6}$$\n",
    "And finally:\n",
    "$$dZ^{[L-1]} = \\frac{\\partial Cost}{\\partial A^{[L]}} \\frac{\\partial A^{[L]}}{\\partial Z^{[L]}} \\frac{\\partial Z^{[L]}}{\\partial A^{[L-1]}} \\frac{\\partial A^{[L-1]}}{\\partial Z^{[L-1]}} = dZ^{[l]}W'^{[l]} * g'(Z^{[L-1]})$$\n",
    "Or more generally:\n",
    "$$dZ^{[l-1]} = dZ^{[l]}W'^{[l]} * g'(Z^{[l-1]}) \\tag{7}$$\n",
    "In order to compute the backward propagation, we will therefore only use (4), (5) and (7)."
   ]
  },
  {
   "cell_type": "code",
   "execution_count": 12,
   "metadata": {},
   "outputs": [],
   "source": [
    "# Defining the helper function to compute the backward-activation (dfx/dZ)\n",
    "# We only treat Linear / ReLU / LeakyReLU / Tanh / Sigmoid funcions\n",
    "def backward_activation_function(activation_name, Z):\n",
    "    if activation_name == \"linear\":\n",
    "        dF = 1\n",
    "    elif activation_name == \"relu\":\n",
    "        dF = np.where(Z < 0, 0, 1)\n",
    "    elif activation_name == \"leakyRelu\":\n",
    "        dF = np.where(Z < 0, 0.01, 1)\n",
    "    elif activation_name == \"tanh\":\n",
    "        dF = 1 - np.power(activation_function(activation_name, Z), 2)\n",
    "    elif activation_name == \"sigmoid\":\n",
    "        dF = activation_function(activation_name, Z) * (1 - activation_function(activation_name, Z))\n",
    "    else:\n",
    "        dF = \"No function associated with: \" + activation_name + \"!\"\n",
    "\n",
    "    return dF     "
   ]
  },
  {
   "cell_type": "code",
   "execution_count": 13,
   "metadata": {},
   "outputs": [],
   "source": [
    "# Get the backward propagtion (dZ)\n",
    "def backward_propagation(nb_layer, Y, A, Z, W, activations):\n",
    "    \n",
    "    L = nb_layer; dZ = {}\n",
    "\n",
    "    # We need to compute the derivative of the last layer separately, as it is a non-generic formula\n",
    "    dAL = -(Y/A[str(L)]) + (1-Y)/(1-A[str(L)])\n",
    "    dZ[str(L)] = dAL * backward_activation_function(activations[L], Z[str(L)])\n",
    "\n",
    "    # We can now compute the generalized backward propagation\n",
    "    for l in range(L-1, 0, -1):\n",
    "        dZ[str(l)] = np.dot(dZ[str(l+1)], W[str(l+1)].T) * backward_activation_function(activations[l], Z[str(l)])\n",
    "\n",
    "    return dZ"
   ]
  },
  {
   "cell_type": "code",
   "execution_count": 14,
   "metadata": {},
   "outputs": [
    {
     "name": "stdout",
     "output_type": "stream",
     "text": "0 :  No function associated with: none!\n1 :  0\n2 :  0\n3 :  0.19661193324148185\ndZ {'3': array([[ 0.48837059],\n       [ 0.5       ],\n       [-0.50978132],\n       ...,\n       [-0.50557559],\n       [-0.50261449],\n       [ 0.48828171]]), '2': array([[-0.        , -0.04471675,  0.        ],\n       [-0.        , -0.        ,  0.        ],\n       [ 0.        ,  0.04667719, -0.        ],\n       ...,\n       [ 0.        ,  0.0462921 , -0.        ],\n       [ 0.        ,  0.04602097, -0.        ],\n       [-0.        , -0.04470861,  0.        ]]), '1': array([[-0.        ,  0.02829638,  0.        , -0.03884994],\n       [ 0.        ,  0.        ,  0.        ,  0.        ],\n       [ 0.        , -0.02953692, -0.        ,  0.04055316],\n       ...,\n       [ 0.        , -0.02929324, -0.        ,  0.0402186 ],\n       [ 0.        , -0.02912168, -0.        ,  0.03998304],\n       [-0.        ,  0.02829123,  0.        , -0.03884287]])}\ndZ[ 1 ] shape: (12089, 4)\ndZ[ 2 ] shape: (12089, 3)\ndZ[ 3 ] shape: (12089, 1)\n"
    }
   ],
   "source": [
    "# Check if Backward Activation function is working correctly\n",
    "nb_check = -1\n",
    "for i in range(0, nb_layer+1):\n",
    "    check = backward_activation_function(activations[i], nb_check)\n",
    "    print(i, \": \", check)\n",
    "\n",
    "# Check if forward propagtion is working correctly (need to run previous check cells)\n",
    "dZ = backward_propagation(nb_layer, Y, A, Z, W, activations)\n",
    "print(\"dZ\", dZ)\n",
    "for i in range(1, nb_layer+1):\n",
    "    print(\"dZ[\", str(i),\"] shape:\", dZ[str(i)].shape)"
   ]
  },
  {
   "cell_type": "markdown",
   "execution_count": null,
   "metadata": {},
   "outputs": [],
   "source": [
    "## VI. Calculate Gradient\n",
    "___\n",
    "We have the back propagation implemented, we now need to calculate the gradient for each parameter W and b. From (1), (5) and (7) we have:\n",
    "$$dZ^{[L]} = \\frac{\\partial Cost}{\\partial A^{[L]}} \\frac{\\partial A^{[L]}}{\\partial Z^{[L]}} = dA^{[L]} * g'(Z^{[L]})$$\n",
    "$$dZ^{[l-1]} = dZ^{[l]}W'^{[l]} * g'(Z^{[l-1]})$$\n",
    "$$Z^{[l]} = W^{[l]} A^{[l-1]} + b^{[l]}$$\n",
    "It follows that:\n",
    "$$dW^{[L]} = \\frac{\\partial Cost}{\\partial A^{[L]}} \\frac{\\partial A^{[L]}}{\\partial Z^{[L]}} \\frac{\\partial Z^{[L]}}{\\partial W^{[L]}}= dZ^{[L]} * A'^{[L-1]}$$  \n",
    "Note that here again, we have $dW^{[L]} = A'^{[L-1]} dZ^{[L]} $ for observations set in rows.  \n",
    "\n",
    "$$db^{[L]} = \\frac{\\partial Cost}{\\partial A^{[L]}} \\frac{\\partial A^{[L]}}{\\partial Z^{[L]}} \\frac{\\partial Z^{[L]}}{\\partial b^{[L]}}= dZ^{[L]}$$\n",
    "For m observations, the gradient of one layer is simply the average of the gradient of that layer for all observations:\n",
    "$$dW^{[l]} = \\frac{1}{m} dZ^{[l]} * A'^{[l-1]} \\tag{8}$$\n",
    "$$db^{[l]} = \\frac{1}{m} \\sum \\limits_{i=1}^{m} {dZ^{[l]}} \\tag{9}$$"
   ]
  },
  {
   "cell_type": "code",
   "execution_count": 15,
   "metadata": {},
   "outputs": [],
   "source": [
    "# Get the gradients for all layers (dW, db)\n",
    "def calculate_gradient(nb_layer, dZ, A):\n",
    "\n",
    "    m = A[\"0\"].shape[0]\n",
    "    L = nb_layer; dW = {}; db = {}\n",
    "\n",
    "    for l in range(L, 0, -1):\n",
    "        dW[str(l)] = 1/m * np.dot(A[str(l-1)].T, dZ[str(l)])\n",
    "        db[str(l)] = 1/m * np.sum(dZ[str(l)], axis=0, keepdims=True)\n",
    "\n",
    "    return dW, db"
   ]
  },
  {
   "cell_type": "code",
   "execution_count": 16,
   "metadata": {},
   "outputs": [
    {
     "name": "stdout",
     "output_type": "stream",
     "text": "dW {'3': array([[-0.00239849],\n       [ 0.01745007],\n       [ 0.00063251]]), '2': array([[8.54717162e-05, 1.50870806e-04, 2.44507446e-06],\n       [1.64944199e-03, 4.49890606e-03, 2.19845821e-06],\n       [1.22036033e-05, 4.28636974e-05, 7.78207046e-08],\n       [9.28076823e-04, 1.29564896e-03, 1.14538975e-03]]), '1': array([[0., 0., 0., 0.],\n       [0., 0., 0., 0.],\n       [0., 0., 0., 0.],\n       ...,\n       [0., 0., 0., 0.],\n       [0., 0., 0., 0.],\n       [0., 0., 0., 0.]])}\ndb {'3': array([[-0.01351183]]), '2': array([[ 0.00141477, -0.0019872 ,  0.00241786]]), '1': array([[ 0.00164505, -0.00212567, -0.00037131, -0.00177623]])}\ndW[ 1 ] shape: (784, 4)\ndb[ 1 ] shape: (1, 4)\ndW[ 2 ] shape: (4, 3)\ndb[ 2 ] shape: (1, 3)\ndW[ 3 ] shape: (3, 1)\ndb[ 3 ] shape: (1, 1)\n"
    }
   ],
   "source": [
    "# Check if gradient is calculated correctly\n",
    "dW, db = calculate_gradient(nb_layer, dZ, A)\n",
    "print(\"dW\", dW)\n",
    "print(\"db\", db)\n",
    "for i in range(1, nb_layer+1):\n",
    "    print(\"dW[\", str(i),\"] shape:\", dW[str(i)].shape)\n",
    "    print(\"db[\", str(i),\"] shape:\", db[str(i)].shape)"
   ]
  },
  {
   "cell_type": "markdown",
   "execution_count": null,
   "metadata": {},
   "outputs": [],
   "source": [
    "## VII. Update parameters\n",
    "___\n",
    "Thanks to the backward propagation, we now have been able to calculate the gradients. The only thing left is to update the parameters to approach the local minimum. The update is given as follows:\n",
    "$$W^{[l]} = W^{[l]} - \\alpha . dW^{[l]} \\tag{10}$$\n",
    "$$b^{[l]} = b^{[l]} - \\alpha . db^{[l]} \\tag{11}$$"
   ]
  },
  {
   "cell_type": "code",
   "execution_count": 17,
   "metadata": {},
   "outputs": [],
   "source": [
    "# Get the updated parameters (W, b)\n",
    "def update_parameters(nb_layer, W, b, dW, db, learning_rate):\n",
    "\n",
    "    L = nb_layer\n",
    "\n",
    "    for l in range(1, L+1):\n",
    "        W[str(l)] = W[str(l)] - learning_rate * dW[str(l)]\n",
    "        b[str(l)] = b[str(l)] - learning_rate * db[str(l)]\n",
    "    \n",
    "    return W, b"
   ]
  },
  {
   "cell_type": "code",
   "execution_count": 18,
   "metadata": {},
   "outputs": [
    {
     "name": "stdout",
     "output_type": "stream",
     "text": "W: {'1': array([[-0.04913076,  0.08143311, -0.00656477,  0.01813978],\n       [-0.04815778,  0.0491001 , -0.03775359,  0.04103352],\n       [-0.0516538 , -0.0158238 ,  0.03665995,  0.01286588],\n       ...,\n       [ 0.06192295,  0.05572182, -0.01645127,  0.09499402],\n       [ 0.09626794,  0.05208633, -0.06349296, -0.00066804],\n       [-0.09731242, -0.07513784,  0.00347835,  0.0157113 ]]), '2': array([[ 1.04242263,  0.98795762, -0.00451984],\n       [ 0.2247627 , -0.63283643, -0.51482376],\n       [-0.92215202, -0.59790852, -0.50878195],\n       [-0.32783855,  0.86878757,  0.02116716]]), '3': array([[-0.06016134],\n       [-0.09173766],\n       [ 0.03647608]])}\nb: {'1': array([[-1.64505266e-05,  2.12567272e-05,  3.71312755e-06,\n         1.77623071e-05]]), '2': array([[-1.41477079e-05,  1.98719879e-05, -2.41785786e-05]]), '3': array([[0.00013512]])}\n"
    }
   ],
   "source": [
    "# Check if parameters are correctly updated\n",
    "W, b = update_parameters(nb_layer, W, b, dW, db, learning_rate=0.01)\n",
    "print(\"W:\", W)\n",
    "print(\"b:\", b)"
   ]
  },
  {
   "cell_type": "markdown",
   "execution_count": null,
   "metadata": {},
   "outputs": [],
   "source": [
    "## VII. Create the Deep Neural Network\n",
    "___\n",
    "Obviously, the gradient descent needs to be iterated several time to get the best parameter set which minimize the cost function.  \n",
    "Therefore, we put all the above defined function into one single training function, which returns the optimum parameter set to be used in the following prediction function.  \n",
    "\n",
    "For convenience, we will make the function displays the Cost/#Iteration plot for Cross-validation sake."
   ]
  },
  {
   "cell_type": "code",
   "execution_count": null,
   "metadata": {},
   "outputs": [],
   "source": [
    "def deep_neural_network(nb_layer, neuron_quantity, activations, X, Y, learning_rate, epoch):\n",
    "\n",
    "    # Make sure the number of Layer matches the length of the #Neuron vector\n",
    "    assert len(neuron_quantity) == nb_layer\n",
    "\n",
    "    # Initialize the A matrix, implementing A[\"0\"] as the feature matrix\n",
    "    A = {}\n",
    "    A[\"0\"] = X\n",
    "\n",
    "    # Make sure there is as many observation (m) in X and Y (both dimension (1,m))\n",
    "    assert Y.shape[0] == A[\"0\"].shape[0]\n",
    "\n",
    "    # Make sure there is enough activation function as number of Layer\n",
    "    assert len(activations) == nb_layer + 1\n",
    "\n",
    "    # Initialize all parameters\n",
    "    L = nb_layer\n",
    "    n = neuron_quantity\n",
    "    costs = []\n",
    "    W, b = initialize_parameters(L, n, A)\n",
    "\n",
    "    # Process the iteration of FwdProp >> BwdProp >> UpdateParam >> FwdProp...\n",
    "    for _ in range(epoch):\n",
    "        A, Z = forward_propagation(L, W, b, A, activations)\n",
    "        cost = compute_cost(A[str(L)], Y)\n",
    "        costs.append(cost)\n",
    "        dZ = backward_propagation(L, Y, A, Z, W, activations)\n",
    "        dW, db = calculate_gradient(L, dZ, A)\n",
    "        W, b = update_parameters(L, W, b, dW, db, learning_rate)\n",
    "\n",
    "    # Display the Cost/#Iteration plot\n",
    "    plt.plot(costs)\n",
    "    plt.ylabel(\"Cost\")\n",
    "    plt.xlabel(\"# epoch\")\n",
    "    plt.title(\"Learning rate =\" + str(learning_rate))\n",
    "    plt.show()\n",
    "\n",
    "    return W, b"
   ]
  },
  {
   "cell_type": "code",
   "execution_count": null,
   "metadata": {},
   "outputs": [],
   "source": [
    "# Check if the deep neural network is working as intended, and plot the Cross-validation graph\n",
    "weight, bias = deep_neural_network(nb_layer, neuron_quantity, activations, X, Y, learning_rate=0.01, epoch=500)"
   ]
  },
  {
   "cell_type": "markdown",
   "execution_count": null,
   "metadata": {},
   "outputs": [],
   "source": [
    "## IX. Create the prediction and accuracy function\n",
    "___\n",
    "The last and final step is to define the prediction function, which takes as input the parameters obtained thanks to the deep_neural_network function.  \n",
    "Note that we do need to propagate forward only, as the set of parameters are already optimized. As such, the expected result is the optimal result.  \n",
    "\n",
    "Finally, we also create the accuracy function to assess the accuracy of the model. It should be a different function than the cost function, which doesn't necessarily return a number between \\[0, 1] (as the goal was to minimize it, it can go up to -$\\infty$)."
   ]
  },
  {
   "cell_type": "code",
   "execution_count": 19,
   "metadata": {},
   "outputs": [],
   "source": [
    "# Predict using W, b of the previous trained model\n",
    "def predict(X, W, b, nb_layer, activations):\n",
    "\n",
    "    A = {}\n",
    "    A[\"0\"] = X\n",
    "\n",
    "    # We only need one forward propagation\n",
    "    # We must include Z so that the forward propagation function doesn't return a tuple\n",
    "    # However, Z is replaced with \"_\" as it will be unused\n",
    "    A, _ = forward_propagation(nb_layer, W, b, A, activations)\n",
    "    Yhat = np.where(A[str(nb_layer)] <= 0.5, 0, 1)\n",
    "\n",
    "    return Yhat"
   ]
  },
  {
   "cell_type": "code",
   "execution_count": 20,
   "metadata": {},
   "outputs": [],
   "source": [
    "# The Accuracy function\n",
    "def model_accuracy(Yhat, Y):\n",
    "    # Simply compare the predicted result vs real result\n",
    "    # If it is the same, 1, if not 0. We then take the average\n",
    "    error = np.where(Yhat == Y, 1, 0)    \n",
    "    accuracy = np.mean(error)\n",
    "\n",
    "    return accuracy"
   ]
  },
  {
   "cell_type": "code",
   "execution_count": null,
   "metadata": {},
   "outputs": [],
   "source": [
    "# Check if the prediction function works well\n",
    "result = predict(X, weight, bias, nb_layer, activations)\n",
    "accuracy = model_accuracy(result, Y)\n",
    "\n",
    "# Tuning back the results from one-hot encoding to categorical values\n",
    "# This will allow us to have a better comparison when comparing with the picture\n",
    "Y = np.where(Y == 0, 2, 3)\n",
    "result = np.where(result == 0, 2, 3)\n",
    "\n",
    "print(\"Accuracy of the model: {0:.2f}%\".format(accuracy*100))"
   ]
  },
  {
   "cell_type": "code",
   "execution_count": null,
   "metadata": {},
   "outputs": [],
   "source": [
    "# Checking if the Neural Network learned properly with images\n",
    "ind = 55\n",
    "print(\"Result was: {0}\".format(Y[ind]))\n",
    "print(\"Prediction was: {0}\".format(result[ind]))\n",
    "plt.imshow(A[\"0\"][ind].reshape(28,28))"
   ]
  },
  {
   "cell_type": "code",
   "execution_count": null,
   "metadata": {},
   "outputs": [],
   "source": [
    "# Checking where we are wrong\n",
    "list_error = [i for i, x in enumerate(Y != result) if x]\n",
    "error_rate = len(list_error) / len(Y) * 100\n",
    "print(\"The model predicted wrong {0} times, or {1:.2f}% of the time\".format(len(list_error), error_rate))"
   ]
  },
  {
   "cell_type": "markdown",
   "execution_count": null,
   "metadata": {},
   "outputs": [],
   "source": [
    "## X. Optimization\n",
    "___\n",
    "### X.A. Regularization\n",
    "#### X.A.1. L2 Regularization\n",
    "Same concept in Statistics.\n",
    "Penalizes complex model. add lambda/2m * Norm Param (scalar) to the cost function. As we add a scalar to the cost function, it shifts up the function, which in turn shifts up the optimal point.\n",
    "\n",
    "A complex model is a model with a lot of layer, with big weights. This often leads to overfitting (e.g. big weights). Indeed, the bigger the weight, the bigger Norm Param."
   ]
  },
  {
   "cell_type": "code",
   "execution_count": null,
   "metadata": {},
   "outputs": [],
   "source": [
    "def L2_Regularization():\n",
    "    "
   ]
  },
  {
   "cell_type": "markdown",
   "execution_count": null,
   "metadata": {},
   "outputs": [],
   "source": [
    "#### X.A.2. Drop-out Regularization\n",
    "Randomly drop-out neurons."
   ]
  },
  {
   "cell_type": "code",
   "execution_count": null,
   "metadata": {},
   "outputs": [],
   "source": [
    "def drop_out():\n",
    "    "
   ]
  },
  {
   "cell_type": "markdown",
   "execution_count": null,
   "metadata": {},
   "outputs": [],
   "source": [
    "### X.B. Batching\n",
    "The cost function that we implement in Deep Learning might not be strictly convex. In this case, there might be few (or many) local minima (all 2nd partial derivatives are convex at this point) or saddle points (some 2nd degree derivatives are convex, the others concave), which don't necessarily equate to the global minimum. If the gradient descent gets stuck in those points, it will end up never finding the global minimum (hence not getting the best parameters set).  \n",
    "\n",
    "One way to avoid this issue is to implement an element of randomness in the descent. Indeed, if the descent is stochastic (totally random), it can get out of those wrong minimum points and continue its way through the global optima. \n",
    "\n",
    "- i = m, batch GD  \n",
    "- i = i, mini-batch GD  \n",
    "- i = 1, stochastic GD (a.k.a SGD)  "
   ]
  },
  {
   "cell_type": "code",
   "execution_count": 21,
   "metadata": {},
   "outputs": [],
   "source": [
    "def create_batch(X, Y, batch_size):\n",
    "\n",
    "    # Create random partition index. nbBatch number of list of index list\n",
    "    m = X.shape[0]\n",
    "\n",
    "    # Handling the case where there is a higher batch size than actual observations\n",
    "    if m < batch_size: raise ValueError(\"Batch size higher than number of observation\")\n",
    "\n",
    "    # Shuffling the dataset (X and Y shuffled the same way to keep accordance). By doing this, each epoch should have a different mini_batch\n",
    "    index_list = list(np.random.permutation(m))\n",
    "    X = X[index_list, :]\n",
    "    Y = Y[index_list, :]\n",
    "\n",
    "\n",
    "    # Create a list containing array of mini_batch\n",
    "    nb_batch, _ = divmod(m, batch_size)\n",
    "    X_batch = []; Y_batch = []\n",
    "\n",
    "    for i in range(nb_batch+1):\n",
    "        X_mini_batch = X[batch_size*i:batch_size*(i+1), :]\n",
    "        X_batch.append(X_mini_batch)\n",
    "        Y_mini_batch = Y[batch_size*i:batch_size*(i+1), :]\n",
    "        Y_batch.append(Y_mini_batch)\n",
    "    \n",
    "    # Note that by setting to nb_batch + 1, Python automatically set the last mini-batch to the according size\n",
    "    \n",
    "    return X_batch, Y_batch"
   ]
  },
  {
   "cell_type": "code",
   "execution_count": 22,
   "metadata": {},
   "outputs": [
    {
     "name": "stdout",
     "output_type": "stream",
     "text": "Batch #0, X_batch size is: (128, 784), and Y_batch size is: (128, 1)\nBatch #1, X_batch size is: (128, 784), and Y_batch size is: (128, 1)\nBatch #2, X_batch size is: (128, 784), and Y_batch size is: (128, 1)\nBatch #3, X_batch size is: (128, 784), and Y_batch size is: (128, 1)\nBatch #4, X_batch size is: (128, 784), and Y_batch size is: (128, 1)\nBatch #5, X_batch size is: (128, 784), and Y_batch size is: (128, 1)\nBatch #6, X_batch size is: (128, 784), and Y_batch size is: (128, 1)\nBatch #7, X_batch size is: (128, 784), and Y_batch size is: (128, 1)\nBatch #8, X_batch size is: (128, 784), and Y_batch size is: (128, 1)\nBatch #9, X_batch size is: (128, 784), and Y_batch size is: (128, 1)\nBatch #10, X_batch size is: (128, 784), and Y_batch size is: (128, 1)\nBatch #11, X_batch size is: (128, 784), and Y_batch size is: (128, 1)\nBatch #12, X_batch size is: (128, 784), and Y_batch size is: (128, 1)\nBatch #13, X_batch size is: (128, 784), and Y_batch size is: (128, 1)\nBatch #14, X_batch size is: (128, 784), and Y_batch size is: (128, 1)\nBatch #15, X_batch size is: (128, 784), and Y_batch size is: (128, 1)\nBatch #16, X_batch size is: (128, 784), and Y_batch size is: (128, 1)\nBatch #17, X_batch size is: (128, 784), and Y_batch size is: (128, 1)\nBatch #18, X_batch size is: (128, 784), and Y_batch size is: (128, 1)\nBatch #19, X_batch size is: (128, 784), and Y_batch size is: (128, 1)\nBatch #20, X_batch size is: (128, 784), and Y_batch size is: (128, 1)\nBatch #21, X_batch size is: (128, 784), and Y_batch size is: (128, 1)\nBatch #22, X_batch size is: (128, 784), and Y_batch size is: (128, 1)\nBatch #23, X_batch size is: (128, 784), and Y_batch size is: (128, 1)\nBatch #24, X_batch size is: (128, 784), and Y_batch size is: (128, 1)\nBatch #25, X_batch size is: (128, 784), and Y_batch size is: (128, 1)\nBatch #26, X_batch size is: (128, 784), and Y_batch size is: (128, 1)\nBatch #27, X_batch size is: (128, 784), and Y_batch size is: (128, 1)\nBatch #28, X_batch size is: (128, 784), and Y_batch size is: (128, 1)\nBatch #29, X_batch size is: (128, 784), and Y_batch size is: (128, 1)\nBatch #30, X_batch size is: (128, 784), and Y_batch size is: (128, 1)\nBatch #31, X_batch size is: (128, 784), and Y_batch size is: (128, 1)\nBatch #32, X_batch size is: (128, 784), and Y_batch size is: (128, 1)\nBatch #33, X_batch size is: (128, 784), and Y_batch size is: (128, 1)\nBatch #34, X_batch size is: (128, 784), and Y_batch size is: (128, 1)\nBatch #35, X_batch size is: (128, 784), and Y_batch size is: (128, 1)\nBatch #36, X_batch size is: (128, 784), and Y_batch size is: (128, 1)\nBatch #37, X_batch size is: (128, 784), and Y_batch size is: (128, 1)\nBatch #38, X_batch size is: (128, 784), and Y_batch size is: (128, 1)\nBatch #39, X_batch size is: (128, 784), and Y_batch size is: (128, 1)\nBatch #40, X_batch size is: (128, 784), and Y_batch size is: (128, 1)\nBatch #41, X_batch size is: (128, 784), and Y_batch size is: (128, 1)\nBatch #42, X_batch size is: (128, 784), and Y_batch size is: (128, 1)\nBatch #43, X_batch size is: (128, 784), and Y_batch size is: (128, 1)\nBatch #44, X_batch size is: (128, 784), and Y_batch size is: (128, 1)\nBatch #45, X_batch size is: (128, 784), and Y_batch size is: (128, 1)\nBatch #46, X_batch size is: (128, 784), and Y_batch size is: (128, 1)\nBatch #47, X_batch size is: (128, 784), and Y_batch size is: (128, 1)\nBatch #48, X_batch size is: (128, 784), and Y_batch size is: (128, 1)\nBatch #49, X_batch size is: (128, 784), and Y_batch size is: (128, 1)\nBatch #50, X_batch size is: (128, 784), and Y_batch size is: (128, 1)\nBatch #51, X_batch size is: (128, 784), and Y_batch size is: (128, 1)\nBatch #52, X_batch size is: (128, 784), and Y_batch size is: (128, 1)\nBatch #53, X_batch size is: (128, 784), and Y_batch size is: (128, 1)\nBatch #54, X_batch size is: (128, 784), and Y_batch size is: (128, 1)\nBatch #55, X_batch size is: (128, 784), and Y_batch size is: (128, 1)\nBatch #56, X_batch size is: (128, 784), and Y_batch size is: (128, 1)\nBatch #57, X_batch size is: (128, 784), and Y_batch size is: (128, 1)\nBatch #58, X_batch size is: (128, 784), and Y_batch size is: (128, 1)\nBatch #59, X_batch size is: (128, 784), and Y_batch size is: (128, 1)\nBatch #60, X_batch size is: (128, 784), and Y_batch size is: (128, 1)\nBatch #61, X_batch size is: (128, 784), and Y_batch size is: (128, 1)\nBatch #62, X_batch size is: (128, 784), and Y_batch size is: (128, 1)\nBatch #63, X_batch size is: (128, 784), and Y_batch size is: (128, 1)\nBatch #64, X_batch size is: (128, 784), and Y_batch size is: (128, 1)\nBatch #65, X_batch size is: (128, 784), and Y_batch size is: (128, 1)\nBatch #66, X_batch size is: (128, 784), and Y_batch size is: (128, 1)\nBatch #67, X_batch size is: (128, 784), and Y_batch size is: (128, 1)\nBatch #68, X_batch size is: (128, 784), and Y_batch size is: (128, 1)\nBatch #69, X_batch size is: (128, 784), and Y_batch size is: (128, 1)\nBatch #70, X_batch size is: (128, 784), and Y_batch size is: (128, 1)\nBatch #71, X_batch size is: (128, 784), and Y_batch size is: (128, 1)\nBatch #72, X_batch size is: (128, 784), and Y_batch size is: (128, 1)\nBatch #73, X_batch size is: (128, 784), and Y_batch size is: (128, 1)\nBatch #74, X_batch size is: (128, 784), and Y_batch size is: (128, 1)\nBatch #75, X_batch size is: (128, 784), and Y_batch size is: (128, 1)\nBatch #76, X_batch size is: (128, 784), and Y_batch size is: (128, 1)\nBatch #77, X_batch size is: (128, 784), and Y_batch size is: (128, 1)\nBatch #78, X_batch size is: (128, 784), and Y_batch size is: (128, 1)\nBatch #79, X_batch size is: (128, 784), and Y_batch size is: (128, 1)\nBatch #80, X_batch size is: (128, 784), and Y_batch size is: (128, 1)\nBatch #81, X_batch size is: (128, 784), and Y_batch size is: (128, 1)\nBatch #82, X_batch size is: (128, 784), and Y_batch size is: (128, 1)\nBatch #83, X_batch size is: (128, 784), and Y_batch size is: (128, 1)\nBatch #84, X_batch size is: (128, 784), and Y_batch size is: (128, 1)\nBatch #85, X_batch size is: (128, 784), and Y_batch size is: (128, 1)\nBatch #86, X_batch size is: (128, 784), and Y_batch size is: (128, 1)\nBatch #87, X_batch size is: (128, 784), and Y_batch size is: (128, 1)\nBatch #88, X_batch size is: (128, 784), and Y_batch size is: (128, 1)\nBatch #89, X_batch size is: (128, 784), and Y_batch size is: (128, 1)\nBatch #90, X_batch size is: (128, 784), and Y_batch size is: (128, 1)\nBatch #91, X_batch size is: (128, 784), and Y_batch size is: (128, 1)\nBatch #92, X_batch size is: (128, 784), and Y_batch size is: (128, 1)\nBatch #93, X_batch size is: (128, 784), and Y_batch size is: (128, 1)\nBatch #94, X_batch size is: (57, 784), and Y_batch size is: (57, 1)\n\nThere should be: 95 batches of sizes 128, and last batch size should be: 57\n\nTotal number of observation: 12089, Batch sum observation: 12089\n"
    }
   ],
   "source": [
    "batch_size = 128\n",
    "X_batch, Y_batch = create_batch(X, Y, batch_size)\n",
    "\n",
    "test_sum = 0\n",
    "for i in range(len(X_batch)):\n",
    "    print(\"Batch #{0}, X_batch size is: {1}, and Y_batch size is: {2}\". format(i, X_batch[i].shape, Y_batch[i].shape))\n",
    "    test_sum += X_batch[i].shape[0]\n",
    "\n",
    "nb_batch, last_batch_length = divmod(m, batch_size)\n",
    "print(\"\\nThere should be: {0} batches of sizes {1}, and last batch size should be: {2}\".format(nb_batch+1, batch_size, last_batch_length))\n",
    "print(\"\\nTotal number of observation: {0}, Batch sum observation: {1}\".format(X.shape[0], test_sum))"
   ]
  },
  {
   "cell_type": "markdown",
   "execution_count": null,
   "metadata": {},
   "outputs": [],
   "source": [
    "### X.C. Momentum\n",
    "Change in dW when updating weights (taking the exponential Weighted average). The idea is to enhance the accuracy of mini-batching by smoothing out the oscilliation of the cost output.\n",
    "$$\n",
    "\\left\\{\n",
    "    \\begin{array}{ll}\n",
    "        V^{[l]} = \\beta V^{[l]} + (1-\\beta) dW^{[l]} \\\\\n",
    "        V_{corr}^{[l]} = \\frac{1}{(1-\\beta^{l})} \\\\\n",
    "        W^{[l]} = W^{[l]} - \\alpha V_{corr}^{[l]}\n",
    "    \\end{array}\n",
    "\\right.\n",
    "$$"
   ]
  },
  {
   "cell_type": "code",
   "execution_count": null,
   "metadata": {},
   "outputs": [],
   "source": [
    "# It first need all grads computed, but then smooth it out with EWA and update parameters \n",
    "def parameters_update_with_momentum(nb_layer, W, b, dW, db, beta=0.9, learning_rate=0.01):\n",
    "\n",
    "    EWAw = {}; EWAb = {}\n",
    "    EWAw[\"0\"] = 0; EWAb[\"0\"] = 0\n",
    "    L = nb_layer\n",
    "    \n",
    "    for l in range(1, L+1):\n",
    "        EWAw[str(l)] = np.zeros((dW[str(l)].shape[0], dW[str(l)].shape[1]))\n",
    "        EWAb[str(l)] = np.zeros((db[str(l)].shape[0], db[str(l)].shape[1]))\n",
    "\n",
    "    for l in range(1, L+1):\n",
    "        EWAw[str(l)] = (1-beta) * EWAw[str(l)] + beta * dW[str(l)] \n",
    "        EWAw[str(l)] = EWAw[str(l)] / (1 - np.power(beta, l))\n",
    "        EWAb[str(l)] = (1-beta) * EWAb[str(l)] + beta * db[str(l)]\n",
    "        EWAb[str(l)] = EWAb[str(l)] / (1 - np.power(beta, l))\n",
    "    \n",
    "        W[str(l)] = W[str(l)] - learning_rate * EWAw[str(l)]\n",
    "        b[str(l)] = b[str(l)] - learning_rate * EWAb[str(l)]\n",
    "\n",
    "    return W, b"
   ]
  },
  {
   "cell_type": "code",
   "execution_count": null,
   "metadata": {},
   "outputs": [],
   "source": [
    "# Check if algo is correct\n",
    "W, b = parameters_update_with_momentum(nb_layer, W, b, dW, db, beta=0.9, learning_rate=0.01)\n",
    "\n",
    "print(W)\n",
    "print(b)"
   ]
  },
  {
   "cell_type": "markdown",
   "execution_count": null,
   "metadata": {},
   "outputs": [],
   "source": [
    "### X.D. Rprop (Resilient Backpropagation)\n",
    "When the cost function is extrmely hyperbolic, the gradients around this extrema can becomes extremely large. Likewise, when the cost function minimum point is located in a plateau (e.g. the minima is a saddle point), the gradient becomes vanishingly small. Even worse, as layer becomes deeper, the backpropagation enhances the $issue^{to prove}$. This is known as \"Exploding / Vanishing\" gradient issue.  \n",
    "To cope with it, we regularize the learning rate. We only go in the gradients sign direction, and parametrize the learning rate to become gradually increasing or decreasing, as the magnitude of the gradients is now irrelevant. Therefore, the new parameter update becomes:\n",
    "$$ W^{[l]} = W^{[l]} - f(\\alpha) . sgn(dW^{[l]})$$\n",
    "It can also be interpreted as:\n",
    "$$ W^{[l]} = W^{[l]} - \\frac{f(\\alpha)} {\\mid dW^{[l]} \\mid} dW^{[l]}$$\n",
    "With $f(\\alpha)$ being a function applied to $\\alpha$ in order to gradually increase/decrease its value (to deal with the lack of magnitude).  \n",
    "We compare the new gradients against the previous ones, and if the sign are equal, then we are moving in the right direction: we need to accelerate the pace by increasing the learning rate.  \n",
    "On the other hand if signs are different, it means we have crossed the optimum point, and therefore we need to reduce the learning rate size so that we can converge.  \n",
    "Finally, if the gradients are equal (the only times gradients are equal is when they are both equal to 0), then we have found the optimum point. This translates to the following function:\n",
    "$$\n",
    "f(\\alpha)^{[l]}_{i} = \\left\\{\n",
    "    \\begin{array}{ll}\n",
    "        min(f(\\alpha)^{[l]}_{i-1} * \\gamma_{1}, \\lambda_{floor}) & \\mbox{if} & dW^{[l]} * dW^{[l-1]} > 0 \\\\\n",
    "        max(f(\\alpha)^{[l]}_{i-1} * \\gamma_{2}, \\lambda_{cap}) & \\mbox{if} & dW^{[l]} * dW^{[l-1]} < 0 \\\\\n",
    "        f(\\alpha)^{[l]}_{i-1} & \\mbox{if} & dW^{[l]} = dW^{[l-1]} = 0\n",
    "    \\end{array}\n",
    "\\right.\n",
    "$$\n",
    "Note that $\\{ \\lambda_{cap}, \\lambda_{floor}, \\gamma_{1}, \\gamma_{2}, f(\\alpha)^{[l]}_{0} \\}$ are all hyper-parameters which need to be set. It also makes sense that $\\gamma_{1} > 1 > \\gamma_{2}$, as $\\gamma$ represents the decaying/enhancing factor, and generally set to: $\\gamma_{1} = 1.2$ and $\\gamma_{2} = 0.5$."
   ]
  },
  {
   "cell_type": "code",
   "execution_count": null,
   "metadata": {},
   "outputs": [],
   "source": [
    "def RProp():\n",
    "    "
   ]
  },
  {
   "cell_type": "markdown",
   "execution_count": null,
   "metadata": {},
   "outputs": [],
   "source": [
    "### X.E. RMSProp (Root Mean Squared Backpropagation)\n",
    "Note that however, Rprop is not efficient when implementing batching. Indeed, there are too many jump around. To cope with, We use RMSProp which keeps the same idea of using the direction but don't want to be disturbed with batching jump. Therefore it only keeps the sign of gradients, while the learning rate decays using a exponential weighted average (vs random across batch), weighting the last value more. Thus, we now have:\n",
    "$$ W = W - g(\\alpha) * dW$$\n",
    "Or:\n",
    "$$ W = W - \\frac{\\alpha} {E} * dW$$\n",
    "E being the equation which satisfies:  \n",
    "\n",
    "- Take away dW magnitude to get rid of exploding/vanishing gradient issue  \n",
    "- Keep dW sign for direction  \n",
    "- Compute Average across batches (last value being more important)  \n",
    "\n",
    "We get:\n",
    "$$\n",
    "\\left \\{\n",
    "    \\begin{array}{ll}\n",
    "        E = \\sqrt{\\beta E + (1-\\beta) dW^{2}} \\\\\n",
    "        E_{corr} = \\frac{E}{1-\\beta^{t}}\n",
    "    \\end{array}\n",
    "\\right.\n",
    "$$\n",
    "\n",
    "The RMSProp Parameter updates can be therefore expressed as:\n",
    "$$ W = W - \\frac{\\alpha} {\\frac{\\sqrt{\\beta E + (1-\\beta) dW^{2}}}{1-\\beta^{t}}} * dW$$"
   ]
  },
  {
   "cell_type": "code",
   "execution_count": null,
   "metadata": {},
   "outputs": [],
   "source": [
    "def RMSProp():\n",
    "    "
   ]
  },
  {
   "cell_type": "markdown",
   "execution_count": null,
   "metadata": {},
   "outputs": [],
   "source": [
    "### X.F. Adam\n",
    "Uses Momentum and RMSProp, and currently is the best GD optimization algorithm.\n",
    "Therefore, we got first of all replacement for dW:\n",
    "$$\n",
    "\\left\\{\n",
    "    \\begin{array}{ll}\n",
    "        V^{[l]} = \\beta V^{[l]} + (1-\\beta) dW^{[l]} \\\\\n",
    "        V_{corr}^{[l]} = \\frac{1}{(1-\\beta^{l})}\n",
    "    \\end{array}\n",
    "\\right.\n",
    "$$\n",
    "And we use RMSProp on the new dW:\n",
    "$$\n",
    "\\left \\{\n",
    "    \\begin{array}{ll}\n",
    "        E = \\sqrt{\\beta E + (1-\\beta) V^{2}} \\\\\n",
    "        E_{corr} = \\frac{E}{1-\\beta^{t}}\n",
    "    \\end{array}\n",
    "\\right.\n",
    "$$\n",
    "The final parameter update equation becomes:\n",
    "$$\n",
    "\\left\\{\n",
    "    \\begin{array}{ll}\n",
    "        V^{[l]} = \\beta V^{[l]} + (1-\\beta) dW^{[l]} \\\\\n",
    "        E = \\sqrt{\\beta E + (1-\\beta) V^{2}} \\\\\n",
    "        W = W - \\frac{\\alpha} {\\frac{\\sqrt{\\beta E + (1-\\beta) \\frac{V}{(1-\\beta^{l})}^{2}}}{1-\\beta^{t}}} * \\frac{V}{(1-\\beta^{l})}\n",
    "    \\end{array}\n",
    "\\right.\n",
    "$$"
   ]
  },
  {
   "cell_type": "code",
   "execution_count": null,
   "metadata": {},
   "outputs": [],
   "source": [
    "def Adam():\n",
    "    "
   ]
  },
  {
   "cell_type": "markdown",
   "execution_count": null,
   "metadata": {},
   "outputs": [],
   "source": [
    "### X.G. Batch Normalizaion\n",
    "Simply normalizes each input.\n",
    "$$ Z_{norm} = \\frac{Z - \\mu_{Z}}{\\sigma_{Z}}$$"
   ]
  },
  {
   "cell_type": "code",
   "execution_count": null,
   "metadata": {},
   "outputs": [],
   "source": [
    "def batch_norm():\n",
    "    "
   ]
  },
  {
   "cell_type": "markdown",
   "execution_count": null,
   "metadata": {},
   "outputs": [],
   "source": [
    "Fully upgraded Multi-Layer Deep Neural Network, including Regularization, Optimization (Batching, Normalization, Gradient Optimization, Weight Initialization"
   ]
  },
  {
   "cell_type": "code",
   "execution_count": 23,
   "metadata": {},
   "outputs": [],
   "source": [
    "def improved_deep_neural_network(nb_layer, neuron_quantity, activations, X, Y, epoch, batch_size, learning_rate=0.01, beta1=0.9):\n",
    "\n",
    "    # Make sure the number of Layer matches the length of the #Neuron vector\n",
    "    assert len(neuron_quantity) == nb_layer\n",
    "\n",
    "    # Make sure there is enough activation function as number of Layer\n",
    "    assert len(activations) == nb_layer + 1\n",
    "\n",
    "    # Initialize the A matrix, implementing A[\"0\"] as the feature matrix\n",
    "    A = {}\n",
    "    A[\"0\"] = X\n",
    "\n",
    "    # Make sure there is as many observation (m) in X and Y (both dimension (m, 1))\n",
    "    assert Y.shape[0] == A[\"0\"].shape[0]\n",
    "\n",
    "    # Initialize all parameters\n",
    "    L = nb_layer\n",
    "    n = neuron_quantity\n",
    "    costs = []\n",
    "    W, b = initialize_parameters(L, n, A)\n",
    "\n",
    "\n",
    "    # Run the Neural network per epoch\n",
    "    for _ in range(epoch):\n",
    "\n",
    "        # Create batches for each epoch. This creates random batches different each time\n",
    "        X_batch, Y_batch = create_batch(X, Y, batch_size)\n",
    "        iteration = len(X_batch)\n",
    "\n",
    "        # Note that we only need the cost for one epoch, not for all mini-batches\n",
    "        # We will therefore need to take the average, hence the need to sum them up together\n",
    "        # We need to reset the cost after each epoch\n",
    "        cost = 0\n",
    "        \n",
    "        # Process the iteration of FwdProp >> BwdProp >> UpdateParam >> FwdProp... for each batch and for each epoch\n",
    "        for i in range(iteration):\n",
    "            \n",
    "            # Initialize the A matrix, implementing A[\"0\"] as the feature matrix\n",
    "            A = {}\n",
    "            A[\"0\"] = X_batch[i]\n",
    "\n",
    "            A, Z = forward_propagation(L, W, b, A, activations)\n",
    "\n",
    "            # Summing up all costs for later averaging\n",
    "            cost += compute_cost(A[str(L)], Y_batch[i])\n",
    "\n",
    "            dZ = backward_propagation(L, Y_batch[i], A, Z, W, activations)\n",
    "            \n",
    "### __________________________________________________________________________________ To update with ADAM/Normal/Mom/Rprop\n",
    "            dW, db = calculate_gradient(L, dZ, A)\n",
    "            #W, b = parameters_update_with_momentum(L, W, b, dW, db, beta1, learning_rate)\n",
    "            W, b = update_parameters(L, W, b, dW, db, learning_rate)\n",
    "### __________________________________________________________________________________\n",
    "\n",
    "        # Now averaging the cost per iteration, in order to have one cost for each epoch\n",
    "        cost /= iteration\n",
    "        costs.append(cost)\n",
    "\n",
    "    # Display the Cost/#Iteration plot\n",
    "    plt.plot(costs)\n",
    "    plt.ylabel(\"Cost\")\n",
    "    plt.xlabel(\"# epoch\")\n",
    "    plt.title(\"Learning rate =\" + str(learning_rate))\n",
    "    plt.show()\n",
    "\n",
    "    return W, b"
   ]
  },
  {
   "cell_type": "code",
   "execution_count": 24,
   "metadata": {},
   "outputs": [
    {
     "name": "stderr",
     "output_type": "stream",
     "text": "C:\\Python\\Python36\\lib\\site-packages\\ipykernel_launcher.py:7: RuntimeWarning: invalid value encountered in true_divide\n  import sys\nC:\\Python\\Python36\\lib\\site-packages\\ipykernel_launcher.py:7: RuntimeWarning: invalid value encountered in less\n  import sys\n"
    },
    {
     "data": {
      "image/png": "[encoded data removed]",
      "image/svg+xml": "<?xml version=\"1.0\" encoding=\"utf-8\" standalone=\"no\"?>\r\n<!DOCTYPE svg PUBLIC \"-//W3C//DTD SVG 1.1//EN\"\r\n  \"http://www.w3.org/Graphics/SVG/1.1/DTD/svg11.dtd\">\r\n<!-- Created with matplotlib (https://matplotlib.org/) -->\r\n<svg height=\"277.314375pt\" version=\"1.1\" viewBox=\"0 0 389.28125 277.314375\" width=\"389.28125pt\" xmlns=\"http://www.w3.org/2000/svg\" xmlns:xlink=\"http://www.w3.org/1999/xlink\">\r\n <defs>\r\n  <style type=\"text/css\">\r\n*{stroke-linecap:butt;stroke-linejoin:round;}\r\n  </style>\r\n </defs>\r\n <g id=\"figure_1\">\r\n  <g id=\"patch_1\">\r\n   <path d=\"M 0 277.314375 \r\nL 389.28125 277.314375 \r\nL 389.28125 0 \r\nL 0 0 \r\nz\r\n\" style=\"fill:none;\"/>\r\n  </g>\r\n  <g id=\"axes_1\">\r\n   <g id=\"patch_2\">\r\n    <path d=\"M 43.78125 239.758125 \r\nL 378.58125 239.758125 \r\nL 378.58125 22.318125 \r\nL 43.78125 22.318125 \r\nz\r\n\" style=\"fill:#ffffff;\"/>\r\n   </g>\r\n   <g id=\"matplotlib.axis_1\">\r\n    <g id=\"xtick_1\">\r\n     <g id=\"line2d_1\">\r\n      <defs>\r\n       <path d=\"M 0 0 \r\nL 0 3.5 \r\n\" id=\"md5d2950de1\" style=\"stroke:#000000;stroke-width:0.8;\"/>\r\n      </defs>\r\n      <g>\r\n       <use style=\"stroke:#000000;stroke-width:0.8;\" x=\"58.999432\" xlink:href=\"#md5d2950de1\" y=\"239.758125\"/>\r\n      </g>\r\n     </g>\r\n     <g id=\"text_1\">\r\n      <!-- 0 -->\r\n      <defs>\r\n       <path d=\"M 31.78125 66.40625 \r\nQ 24.171875 66.40625 20.328125 58.90625 \r\nQ 16.5 51.421875 16.5 36.375 \r\nQ 16.5 21.390625 20.328125 13.890625 \r\nQ 24.171875 6.390625 31.78125 6.390625 \r\nQ 39.453125 6.390625 43.28125 13.890625 \r\nQ 47.125 21.390625 47.125 36.375 \r\nQ 47.125 51.421875 43.28125 58.90625 \r\nQ 39.453125 66.40625 31.78125 66.40625 \r\nz\r\nM 31.78125 74.21875 \r\nQ 44.046875 74.21875 50.515625 64.515625 \r\nQ 56.984375 54.828125 56.984375 36.375 \r\nQ 56.984375 17.96875 50.515625 8.265625 \r\nQ 44.046875 -1.421875 31.78125 -1.421875 \r\nQ 19.53125 -1.421875 13.0625 8.265625 \r\nQ 6.59375 17.96875 6.59375 36.375 \r\nQ 6.59375 54.828125 13.0625 64.515625 \r\nQ 19.53125 74.21875 31.78125 74.21875 \r\nz\r\n\" id=\"DejaVuSans-48\"/>\r\n      </defs>\r\n      <g transform=\"translate(55.818182 254.356562)scale(0.1 -0.1)\">\r\n       <use xlink:href=\"#DejaVuSans-48\"/>\r\n      </g>\r\n     </g>\r\n    </g>\r\n    <g id=\"xtick_2\">\r\n     <g id=\"line2d_2\">\r\n      <g>\r\n       <use style=\"stroke:#000000;stroke-width:0.8;\" x=\"117.5309\" xlink:href=\"#md5d2950de1\" y=\"239.758125\"/>\r\n      </g>\r\n     </g>\r\n     <g id=\"text_2\">\r\n      <!-- 50 -->\r\n      <defs>\r\n       <path d=\"M 10.796875 72.90625 \r\nL 49.515625 72.90625 \r\nL 49.515625 64.59375 \r\nL 19.828125 64.59375 \r\nL 19.828125 46.734375 \r\nQ 21.96875 47.46875 24.109375 47.828125 \r\nQ 26.265625 48.1875 28.421875 48.1875 \r\nQ 40.625 48.1875 47.75 41.5 \r\nQ 54.890625 34.8125 54.890625 23.390625 \r\nQ 54.890625 11.625 47.5625 5.09375 \r\nQ 40.234375 -1.421875 26.90625 -1.421875 \r\nQ 22.3125 -1.421875 17.546875 -0.640625 \r\nQ 12.796875 0.140625 7.71875 1.703125 \r\nL 7.71875 11.625 \r\nQ 12.109375 9.234375 16.796875 8.0625 \r\nQ 21.484375 6.890625 26.703125 6.890625 \r\nQ 35.15625 6.890625 40.078125 11.328125 \r\nQ 45.015625 15.765625 45.015625 23.390625 \r\nQ 45.015625 31 40.078125 35.4375 \r\nQ 35.15625 39.890625 26.703125 39.890625 \r\nQ 22.75 39.890625 18.8125 39.015625 \r\nQ 14.890625 38.140625 10.796875 36.28125 \r\nz\r\n\" id=\"DejaVuSans-53\"/>\r\n      </defs>\r\n      <g transform=\"translate(111.1684 254.356562)scale(0.1 -0.1)\">\r\n       <use xlink:href=\"#DejaVuSans-53\"/>\r\n       <use x=\"63.623047\" xlink:href=\"#DejaVuSans-48\"/>\r\n      </g>\r\n     </g>\r\n    </g>\r\n    <g id=\"xtick_3\">\r\n     <g id=\"line2d_3\">\r\n      <g>\r\n       <use style=\"stroke:#000000;stroke-width:0.8;\" x=\"176.062369\" xlink:href=\"#md5d2950de1\" y=\"239.758125\"/>\r\n      </g>\r\n     </g>\r\n     <g id=\"text_3\">\r\n      <!-- 100 -->\r\n      <defs>\r\n       <path d=\"M 12.40625 8.296875 \r\nL 28.515625 8.296875 \r\nL 28.515625 63.921875 \r\nL 10.984375 60.40625 \r\nL 10.984375 69.390625 \r\nL 28.421875 72.90625 \r\nL 38.28125 72.90625 \r\nL 38.28125 8.296875 \r\nL 54.390625 8.296875 \r\nL 54.390625 0 \r\nL 12.40625 0 \r\nz\r\n\" id=\"DejaVuSans-49\"/>\r\n      </defs>\r\n      <g transform=\"translate(166.518619 254.356562)scale(0.1 -0.1)\">\r\n       <use xlink:href=\"#DejaVuSans-49\"/>\r\n       <use x=\"63.623047\" xlink:href=\"#DejaVuSans-48\"/>\r\n       <use x=\"127.246094\" xlink:href=\"#DejaVuSans-48\"/>\r\n      </g>\r\n     </g>\r\n    </g>\r\n    <g id=\"xtick_4\">\r\n     <g id=\"line2d_4\">\r\n      <g>\r\n       <use style=\"stroke:#000000;stroke-width:0.8;\" x=\"234.593837\" xlink:href=\"#md5d2950de1\" y=\"239.758125\"/>\r\n      </g>\r\n     </g>\r\n     <g id=\"text_4\">\r\n      <!-- 150 -->\r\n      <g transform=\"translate(225.050087 254.356562)scale(0.1 -0.1)\">\r\n       <use xlink:href=\"#DejaVuSans-49\"/>\r\n       <use x=\"63.623047\" xlink:href=\"#DejaVuSans-53\"/>\r\n       <use x=\"127.246094\" xlink:href=\"#DejaVuSans-48\"/>\r\n      </g>\r\n     </g>\r\n    </g>\r\n    <g id=\"xtick_5\">\r\n     <g id=\"line2d_5\">\r\n      <g>\r\n       <use style=\"stroke:#000000;stroke-width:0.8;\" x=\"293.125306\" xlink:href=\"#md5d2950de1\" y=\"239.758125\"/>\r\n      </g>\r\n     </g>\r\n     <g id=\"text_5\">\r\n      <!-- 200 -->\r\n      <defs>\r\n       <path d=\"M 19.1875 8.296875 \r\nL 53.609375 8.296875 \r\nL 53.609375 0 \r\nL 7.328125 0 \r\nL 7.328125 8.296875 \r\nQ 12.9375 14.109375 22.625 23.890625 \r\nQ 32.328125 33.6875 34.8125 36.53125 \r\nQ 39.546875 41.84375 41.421875 45.53125 \r\nQ 43.3125 49.21875 43.3125 52.78125 \r\nQ 43.3125 58.59375 39.234375 62.25 \r\nQ 35.15625 65.921875 28.609375 65.921875 \r\nQ 23.96875 65.921875 18.8125 64.3125 \r\nQ 13.671875 62.703125 7.8125 59.421875 \r\nL 7.8125 69.390625 \r\nQ 13.765625 71.78125 18.9375 73 \r\nQ 24.125 74.21875 28.421875 74.21875 \r\nQ 39.75 74.21875 46.484375 68.546875 \r\nQ 53.21875 62.890625 53.21875 53.421875 \r\nQ 53.21875 48.921875 51.53125 44.890625 \r\nQ 49.859375 40.875 45.40625 35.40625 \r\nQ 44.1875 33.984375 37.640625 27.21875 \r\nQ 31.109375 20.453125 19.1875 8.296875 \r\nz\r\n\" id=\"DejaVuSans-50\"/>\r\n      </defs>\r\n      <g transform=\"translate(283.581556 254.356562)scale(0.1 -0.1)\">\r\n       <use xlink:href=\"#DejaVuSans-50\"/>\r\n       <use x=\"63.623047\" xlink:href=\"#DejaVuSans-48\"/>\r\n       <use x=\"127.246094\" xlink:href=\"#DejaVuSans-48\"/>\r\n      </g>\r\n     </g>\r\n    </g>\r\n    <g id=\"xtick_6\">\r\n     <g id=\"line2d_6\">\r\n      <g>\r\n       <use style=\"stroke:#000000;stroke-width:0.8;\" x=\"351.656774\" xlink:href=\"#md5d2950de1\" y=\"239.758125\"/>\r\n      </g>\r\n     </g>\r\n     <g id=\"text_6\">\r\n      <!-- 250 -->\r\n      <g transform=\"translate(342.113024 254.356562)scale(0.1 -0.1)\">\r\n       <use xlink:href=\"#DejaVuSans-50\"/>\r\n       <use x=\"63.623047\" xlink:href=\"#DejaVuSans-53\"/>\r\n       <use x=\"127.246094\" xlink:href=\"#DejaVuSans-48\"/>\r\n      </g>\r\n     </g>\r\n    </g>\r\n    <g id=\"text_7\">\r\n     <!-- # epoch -->\r\n     <defs>\r\n      <path d=\"M 51.125 44 \r\nL 36.921875 44 \r\nL 32.8125 27.6875 \r\nL 47.125 27.6875 \r\nz\r\nM 43.796875 71.78125 \r\nL 38.71875 51.515625 \r\nL 52.984375 51.515625 \r\nL 58.109375 71.78125 \r\nL 65.921875 71.78125 \r\nL 60.890625 51.515625 \r\nL 76.125 51.515625 \r\nL 76.125 44 \r\nL 58.984375 44 \r\nL 54.984375 27.6875 \r\nL 70.515625 27.6875 \r\nL 70.515625 20.21875 \r\nL 53.078125 20.21875 \r\nL 48 0 \r\nL 40.1875 0 \r\nL 45.21875 20.21875 \r\nL 30.90625 20.21875 \r\nL 25.875 0 \r\nL 18.015625 0 \r\nL 23.09375 20.21875 \r\nL 7.71875 20.21875 \r\nL 7.71875 27.6875 \r\nL 24.90625 27.6875 \r\nL 29 44 \r\nL 13.28125 44 \r\nL 13.28125 51.515625 \r\nL 30.90625 51.515625 \r\nL 35.890625 71.78125 \r\nz\r\n\" id=\"DejaVuSans-35\"/>\r\n      <path id=\"DejaVuSans-32\"/>\r\n      <path d=\"M 56.203125 29.59375 \r\nL 56.203125 25.203125 \r\nL 14.890625 25.203125 \r\nQ 15.484375 15.921875 20.484375 11.0625 \r\nQ 25.484375 6.203125 34.421875 6.203125 \r\nQ 39.59375 6.203125 44.453125 7.46875 \r\nQ 49.3125 8.734375 54.109375 11.28125 \r\nL 54.109375 2.78125 \r\nQ 49.265625 0.734375 44.1875 -0.34375 \r\nQ 39.109375 -1.421875 33.890625 -1.421875 \r\nQ 20.796875 -1.421875 13.15625 6.1875 \r\nQ 5.515625 13.8125 5.515625 26.8125 \r\nQ 5.515625 40.234375 12.765625 48.109375 \r\nQ 20.015625 56 32.328125 56 \r\nQ 43.359375 56 49.78125 48.890625 \r\nQ 56.203125 41.796875 56.203125 29.59375 \r\nz\r\nM 47.21875 32.234375 \r\nQ 47.125 39.59375 43.09375 43.984375 \r\nQ 39.0625 48.390625 32.421875 48.390625 \r\nQ 24.90625 48.390625 20.390625 44.140625 \r\nQ 15.875 39.890625 15.1875 32.171875 \r\nz\r\n\" id=\"DejaVuSans-101\"/>\r\n      <path d=\"M 18.109375 8.203125 \r\nL 18.109375 -20.796875 \r\nL 9.078125 -20.796875 \r\nL 9.078125 54.6875 \r\nL 18.109375 54.6875 \r\nL 18.109375 46.390625 \r\nQ 20.953125 51.265625 25.265625 53.625 \r\nQ 29.59375 56 35.59375 56 \r\nQ 45.5625 56 51.78125 48.09375 \r\nQ 58.015625 40.1875 58.015625 27.296875 \r\nQ 58.015625 14.40625 51.78125 6.484375 \r\nQ 45.5625 -1.421875 35.59375 -1.421875 \r\nQ 29.59375 -1.421875 25.265625 0.953125 \r\nQ 20.953125 3.328125 18.109375 8.203125 \r\nz\r\nM 48.6875 27.296875 \r\nQ 48.6875 37.203125 44.609375 42.84375 \r\nQ 40.53125 48.484375 33.40625 48.484375 \r\nQ 26.265625 48.484375 22.1875 42.84375 \r\nQ 18.109375 37.203125 18.109375 27.296875 \r\nQ 18.109375 17.390625 22.1875 11.75 \r\nQ 26.265625 6.109375 33.40625 6.109375 \r\nQ 40.53125 6.109375 44.609375 11.75 \r\nQ 48.6875 17.390625 48.6875 27.296875 \r\nz\r\n\" id=\"DejaVuSans-112\"/>\r\n      <path d=\"M 30.609375 48.390625 \r\nQ 23.390625 48.390625 19.1875 42.75 \r\nQ 14.984375 37.109375 14.984375 27.296875 \r\nQ 14.984375 17.484375 19.15625 11.84375 \r\nQ 23.34375 6.203125 30.609375 6.203125 \r\nQ 37.796875 6.203125 41.984375 11.859375 \r\nQ 46.1875 17.53125 46.1875 27.296875 \r\nQ 46.1875 37.015625 41.984375 42.703125 \r\nQ 37.796875 48.390625 30.609375 48.390625 \r\nz\r\nM 30.609375 56 \r\nQ 42.328125 56 49.015625 48.375 \r\nQ 55.71875 40.765625 55.71875 27.296875 \r\nQ 55.71875 13.875 49.015625 6.21875 \r\nQ 42.328125 -1.421875 30.609375 -1.421875 \r\nQ 18.84375 -1.421875 12.171875 6.21875 \r\nQ 5.515625 13.875 5.515625 27.296875 \r\nQ 5.515625 40.765625 12.171875 48.375 \r\nQ 18.84375 56 30.609375 56 \r\nz\r\n\" id=\"DejaVuSans-111\"/>\r\n      <path d=\"M 48.78125 52.59375 \r\nL 48.78125 44.1875 \r\nQ 44.96875 46.296875 41.140625 47.34375 \r\nQ 37.3125 48.390625 33.40625 48.390625 \r\nQ 24.65625 48.390625 19.8125 42.84375 \r\nQ 14.984375 37.3125 14.984375 27.296875 \r\nQ 14.984375 17.28125 19.8125 11.734375 \r\nQ 24.65625 6.203125 33.40625 6.203125 \r\nQ 37.3125 6.203125 41.140625 7.25 \r\nQ 44.96875 8.296875 48.78125 10.40625 \r\nL 48.78125 2.09375 \r\nQ 45.015625 0.34375 40.984375 -0.53125 \r\nQ 36.96875 -1.421875 32.421875 -1.421875 \r\nQ 20.0625 -1.421875 12.78125 6.34375 \r\nQ 5.515625 14.109375 5.515625 27.296875 \r\nQ 5.515625 40.671875 12.859375 48.328125 \r\nQ 20.21875 56 33.015625 56 \r\nQ 37.15625 56 41.109375 55.140625 \r\nQ 45.0625 54.296875 48.78125 52.59375 \r\nz\r\n\" id=\"DejaVuSans-99\"/>\r\n      <path d=\"M 54.890625 33.015625 \r\nL 54.890625 0 \r\nL 45.90625 0 \r\nL 45.90625 32.71875 \r\nQ 45.90625 40.484375 42.875 44.328125 \r\nQ 39.84375 48.1875 33.796875 48.1875 \r\nQ 26.515625 48.1875 22.3125 43.546875 \r\nQ 18.109375 38.921875 18.109375 30.90625 \r\nL 18.109375 0 \r\nL 9.078125 0 \r\nL 9.078125 75.984375 \r\nL 18.109375 75.984375 \r\nL 18.109375 46.1875 \r\nQ 21.34375 51.125 25.703125 53.5625 \r\nQ 30.078125 56 35.796875 56 \r\nQ 45.21875 56 50.046875 50.171875 \r\nQ 54.890625 44.34375 54.890625 33.015625 \r\nz\r\n\" id=\"DejaVuSans-104\"/>\r\n     </defs>\r\n     <g transform=\"translate(190.174219 268.034687)scale(0.1 -0.1)\">\r\n      <use xlink:href=\"#DejaVuSans-35\"/>\r\n      <use x=\"83.789062\" xlink:href=\"#DejaVuSans-32\"/>\r\n      <use x=\"115.576172\" xlink:href=\"#DejaVuSans-101\"/>\r\n      <use x=\"177.099609\" xlink:href=\"#DejaVuSans-112\"/>\r\n      <use x=\"240.576172\" xlink:href=\"#DejaVuSans-111\"/>\r\n      <use x=\"301.757812\" xlink:href=\"#DejaVuSans-99\"/>\r\n      <use x=\"356.738281\" xlink:href=\"#DejaVuSans-104\"/>\r\n     </g>\r\n    </g>\r\n   </g>\r\n   <g id=\"matplotlib.axis_2\">\r\n    <g id=\"ytick_1\">\r\n     <g id=\"line2d_7\">\r\n      <defs>\r\n       <path d=\"M 0 0 \r\nL -3.5 0 \r\n\" id=\"m043b82b726\" style=\"stroke:#000000;stroke-width:0.8;\"/>\r\n      </defs>\r\n      <g>\r\n       <use style=\"stroke:#000000;stroke-width:0.8;\" x=\"43.78125\" xlink:href=\"#m043b82b726\" y=\"236.28345\"/>\r\n      </g>\r\n     </g>\r\n     <g id=\"text_8\">\r\n      <!-- 0.0 -->\r\n      <defs>\r\n       <path d=\"M 10.6875 12.40625 \r\nL 21 12.40625 \r\nL 21 0 \r\nL 10.6875 0 \r\nz\r\n\" id=\"DejaVuSans-46\"/>\r\n      </defs>\r\n      <g transform=\"translate(20.878125 240.082669)scale(0.1 -0.1)\">\r\n       <use xlink:href=\"#DejaVuSans-48\"/>\r\n       <use x=\"63.623047\" xlink:href=\"#DejaVuSans-46\"/>\r\n       <use x=\"95.410156\" xlink:href=\"#DejaVuSans-48\"/>\r\n      </g>\r\n     </g>\r\n    </g>\r\n    <g id=\"ytick_2\">\r\n     <g id=\"line2d_8\">\r\n      <g>\r\n       <use style=\"stroke:#000000;stroke-width:0.8;\" x=\"43.78125\" xlink:href=\"#m043b82b726\" y=\"193.319289\"/>\r\n      </g>\r\n     </g>\r\n     <g id=\"text_9\">\r\n      <!-- 0.1 -->\r\n      <g transform=\"translate(20.878125 197.118507)scale(0.1 -0.1)\">\r\n       <use xlink:href=\"#DejaVuSans-48\"/>\r\n       <use x=\"63.623047\" xlink:href=\"#DejaVuSans-46\"/>\r\n       <use x=\"95.410156\" xlink:href=\"#DejaVuSans-49\"/>\r\n      </g>\r\n     </g>\r\n    </g>\r\n    <g id=\"ytick_3\">\r\n     <g id=\"line2d_9\">\r\n      <g>\r\n       <use style=\"stroke:#000000;stroke-width:0.8;\" x=\"43.78125\" xlink:href=\"#m043b82b726\" y=\"150.355127\"/>\r\n      </g>\r\n     </g>\r\n     <g id=\"text_10\">\r\n      <!-- 0.2 -->\r\n      <g transform=\"translate(20.878125 154.154346)scale(0.1 -0.1)\">\r\n       <use xlink:href=\"#DejaVuSans-48\"/>\r\n       <use x=\"63.623047\" xlink:href=\"#DejaVuSans-46\"/>\r\n       <use x=\"95.410156\" xlink:href=\"#DejaVuSans-50\"/>\r\n      </g>\r\n     </g>\r\n    </g>\r\n    <g id=\"ytick_4\">\r\n     <g id=\"line2d_10\">\r\n      <g>\r\n       <use style=\"stroke:#000000;stroke-width:0.8;\" x=\"43.78125\" xlink:href=\"#m043b82b726\" y=\"107.390966\"/>\r\n      </g>\r\n     </g>\r\n     <g id=\"text_11\">\r\n      <!-- 0.3 -->\r\n      <defs>\r\n       <path d=\"M 40.578125 39.3125 \r\nQ 47.65625 37.796875 51.625 33 \r\nQ 55.609375 28.21875 55.609375 21.1875 \r\nQ 55.609375 10.40625 48.1875 4.484375 \r\nQ 40.765625 -1.421875 27.09375 -1.421875 \r\nQ 22.515625 -1.421875 17.65625 -0.515625 \r\nQ 12.796875 0.390625 7.625 2.203125 \r\nL 7.625 11.71875 \r\nQ 11.71875 9.328125 16.59375 8.109375 \r\nQ 21.484375 6.890625 26.8125 6.890625 \r\nQ 36.078125 6.890625 40.9375 10.546875 \r\nQ 45.796875 14.203125 45.796875 21.1875 \r\nQ 45.796875 27.640625 41.28125 31.265625 \r\nQ 36.765625 34.90625 28.71875 34.90625 \r\nL 20.21875 34.90625 \r\nL 20.21875 43.015625 \r\nL 29.109375 43.015625 \r\nQ 36.375 43.015625 40.234375 45.921875 \r\nQ 44.09375 48.828125 44.09375 54.296875 \r\nQ 44.09375 59.90625 40.109375 62.90625 \r\nQ 36.140625 65.921875 28.71875 65.921875 \r\nQ 24.65625 65.921875 20.015625 65.03125 \r\nQ 15.375 64.15625 9.8125 62.3125 \r\nL 9.8125 71.09375 \r\nQ 15.4375 72.65625 20.34375 73.4375 \r\nQ 25.25 74.21875 29.59375 74.21875 \r\nQ 40.828125 74.21875 47.359375 69.109375 \r\nQ 53.90625 64.015625 53.90625 55.328125 \r\nQ 53.90625 49.265625 50.4375 45.09375 \r\nQ 46.96875 40.921875 40.578125 39.3125 \r\nz\r\n\" id=\"DejaVuSans-51\"/>\r\n      </defs>\r\n      <g transform=\"translate(20.878125 111.190185)scale(0.1 -0.1)\">\r\n       <use xlink:href=\"#DejaVuSans-48\"/>\r\n       <use x=\"63.623047\" xlink:href=\"#DejaVuSans-46\"/>\r\n       <use x=\"95.410156\" xlink:href=\"#DejaVuSans-51\"/>\r\n      </g>\r\n     </g>\r\n    </g>\r\n    <g id=\"ytick_5\">\r\n     <g id=\"line2d_11\">\r\n      <g>\r\n       <use style=\"stroke:#000000;stroke-width:0.8;\" x=\"43.78125\" xlink:href=\"#m043b82b726\" y=\"64.426805\"/>\r\n      </g>\r\n     </g>\r\n     <g id=\"text_12\">\r\n      <!-- 0.4 -->\r\n      <defs>\r\n       <path d=\"M 37.796875 64.3125 \r\nL 12.890625 25.390625 \r\nL 37.796875 25.390625 \r\nz\r\nM 35.203125 72.90625 \r\nL 47.609375 72.90625 \r\nL 47.609375 25.390625 \r\nL 58.015625 25.390625 \r\nL 58.015625 17.1875 \r\nL 47.609375 17.1875 \r\nL 47.609375 0 \r\nL 37.796875 0 \r\nL 37.796875 17.1875 \r\nL 4.890625 17.1875 \r\nL 4.890625 26.703125 \r\nz\r\n\" id=\"DejaVuSans-52\"/>\r\n      </defs>\r\n      <g transform=\"translate(20.878125 68.226023)scale(0.1 -0.1)\">\r\n       <use xlink:href=\"#DejaVuSans-48\"/>\r\n       <use x=\"63.623047\" xlink:href=\"#DejaVuSans-46\"/>\r\n       <use x=\"95.410156\" xlink:href=\"#DejaVuSans-52\"/>\r\n      </g>\r\n     </g>\r\n    </g>\r\n    <g id=\"text_13\">\r\n     <!-- Cost -->\r\n     <defs>\r\n      <path d=\"M 64.40625 67.28125 \r\nL 64.40625 56.890625 \r\nQ 59.421875 61.53125 53.78125 63.8125 \r\nQ 48.140625 66.109375 41.796875 66.109375 \r\nQ 29.296875 66.109375 22.65625 58.46875 \r\nQ 16.015625 50.828125 16.015625 36.375 \r\nQ 16.015625 21.96875 22.65625 14.328125 \r\nQ 29.296875 6.6875 41.796875 6.6875 \r\nQ 48.140625 6.6875 53.78125 8.984375 \r\nQ 59.421875 11.28125 64.40625 15.921875 \r\nL 64.40625 5.609375 \r\nQ 59.234375 2.09375 53.4375 0.328125 \r\nQ 47.65625 -1.421875 41.21875 -1.421875 \r\nQ 24.65625 -1.421875 15.125 8.703125 \r\nQ 5.609375 18.84375 5.609375 36.375 \r\nQ 5.609375 53.953125 15.125 64.078125 \r\nQ 24.65625 74.21875 41.21875 74.21875 \r\nQ 47.75 74.21875 53.53125 72.484375 \r\nQ 59.328125 70.75 64.40625 67.28125 \r\nz\r\n\" id=\"DejaVuSans-67\"/>\r\n      <path d=\"M 44.28125 53.078125 \r\nL 44.28125 44.578125 \r\nQ 40.484375 46.53125 36.375 47.5 \r\nQ 32.28125 48.484375 27.875 48.484375 \r\nQ 21.1875 48.484375 17.84375 46.4375 \r\nQ 14.5 44.390625 14.5 40.28125 \r\nQ 14.5 37.15625 16.890625 35.375 \r\nQ 19.28125 33.59375 26.515625 31.984375 \r\nL 29.59375 31.296875 \r\nQ 39.15625 29.25 43.1875 25.515625 \r\nQ 47.21875 21.78125 47.21875 15.09375 \r\nQ 47.21875 7.46875 41.1875 3.015625 \r\nQ 35.15625 -1.421875 24.609375 -1.421875 \r\nQ 20.21875 -1.421875 15.453125 -0.5625 \r\nQ 10.6875 0.296875 5.421875 2 \r\nL 5.421875 11.28125 \r\nQ 10.40625 8.6875 15.234375 7.390625 \r\nQ 20.0625 6.109375 24.8125 6.109375 \r\nQ 31.15625 6.109375 34.5625 8.28125 \r\nQ 37.984375 10.453125 37.984375 14.40625 \r\nQ 37.984375 18.0625 35.515625 20.015625 \r\nQ 33.0625 21.96875 24.703125 23.78125 \r\nL 21.578125 24.515625 \r\nQ 13.234375 26.265625 9.515625 29.90625 \r\nQ 5.8125 33.546875 5.8125 39.890625 \r\nQ 5.8125 47.609375 11.28125 51.796875 \r\nQ 16.75 56 26.8125 56 \r\nQ 31.78125 56 36.171875 55.265625 \r\nQ 40.578125 54.546875 44.28125 53.078125 \r\nz\r\n\" id=\"DejaVuSans-115\"/>\r\n      <path d=\"M 18.3125 70.21875 \r\nL 18.3125 54.6875 \r\nL 36.8125 54.6875 \r\nL 36.8125 47.703125 \r\nL 18.3125 47.703125 \r\nL 18.3125 18.015625 \r\nQ 18.3125 11.328125 20.140625 9.421875 \r\nQ 21.96875 7.515625 27.59375 7.515625 \r\nL 36.8125 7.515625 \r\nL 36.8125 0 \r\nL 27.59375 0 \r\nQ 17.1875 0 13.234375 3.875 \r\nQ 9.28125 7.765625 9.28125 18.015625 \r\nL 9.28125 47.703125 \r\nL 2.6875 47.703125 \r\nL 2.6875 54.6875 \r\nL 9.28125 54.6875 \r\nL 9.28125 70.21875 \r\nz\r\n\" id=\"DejaVuSans-116\"/>\r\n     </defs>\r\n     <g transform=\"translate(14.798438 142.15375)rotate(-90)scale(0.1 -0.1)\">\r\n      <use xlink:href=\"#DejaVuSans-67\"/>\r\n      <use x=\"69.824219\" xlink:href=\"#DejaVuSans-111\"/>\r\n      <use x=\"131.005859\" xlink:href=\"#DejaVuSans-115\"/>\r\n      <use x=\"183.105469\" xlink:href=\"#DejaVuSans-116\"/>\r\n     </g>\r\n    </g>\r\n   </g>\r\n   <g id=\"line2d_12\">\r\n    <path clip-path=\"url(#p4801ce1826)\" d=\"M 58.999432 32.201761 \r\nL 60.170061 82.197525 \r\nL 61.340691 102.845272 \r\nL 62.51132 118.215126 \r\nL 63.681949 130.337585 \r\nL 64.852579 139.966696 \r\nL 66.023208 148.374093 \r\nL 67.193837 155.21482 \r\nL 68.364467 161.017717 \r\nL 69.535096 166.069056 \r\nL 71.876355 173.9796 \r\nL 74.217614 180.135456 \r\nL 75.388243 182.635775 \r\nL 77.729502 186.849124 \r\nL 78.900131 188.623488 \r\nL 82.412019 192.859996 \r\nL 83.582649 194.078057 \r\nL 88.265166 198.156671 \r\nL 89.435795 198.675333 \r\nL 92.947684 201.087447 \r\nL 97.630201 203.571181 \r\nL 102.312719 205.619833 \r\nL 103.483348 206.008785 \r\nL 104.653977 206.661779 \r\nL 105.824607 206.843789 \r\nL 106.995236 207.171044 \r\nL 108.165865 207.747816 \r\nL 110.507124 208.320865 \r\nL 111.677753 208.770293 \r\nL 114.019012 209.400665 \r\nL 115.189642 209.913722 \r\nL 116.360271 210.129199 \r\nL 119.872159 211.183967 \r\nL 121.042788 211.284818 \r\nL 122.213418 211.528946 \r\nL 124.554677 212.232678 \r\nL 125.725306 212.453977 \r\nL 126.895935 212.536199 \r\nL 128.066565 213.136768 \r\nL 131.578453 213.497167 \r\nL 132.749082 213.924546 \r\nL 135.090341 214.448952 \r\nL 139.772858 215.276926 \r\nL 140.943488 215.51559 \r\nL 142.114117 215.603448 \r\nL 143.284747 215.857319 \r\nL 145.626005 216.037709 \r\nL 146.796635 216.429436 \r\nL 147.967264 216.651516 \r\nL 149.137893 216.677219 \r\nL 156.16167 217.655232 \r\nL 157.332299 217.643637 \r\nL 158.502928 217.970646 \r\nL 162.014816 218.505171 \r\nL 163.185446 218.571115 \r\nL 165.526705 218.978089 \r\nL 167.867963 219.26136 \r\nL 171.379851 219.682588 \r\nL 173.72111 219.859082 \r\nL 176.062369 220.153123 \r\nL 177.232998 220.13122 \r\nL 179.574257 220.60741 \r\nL 183.086145 220.793983 \r\nL 184.256774 221.042575 \r\nL 191.280551 221.665011 \r\nL 192.45118 221.864461 \r\nL 195.963068 222.111591 \r\nL 198.304327 222.327285 \r\nL 201.816215 222.596278 \r\nL 204.157474 222.69796 \r\nL 205.328103 222.717945 \r\nL 207.669362 223.080923 \r\nL 211.18125 223.292259 \r\nL 213.522509 223.432722 \r\nL 220.546285 224.020689 \r\nL 221.716914 223.982326 \r\nL 222.887544 224.088738 \r\nL 224.058173 223.860799 \r\nL 225.228802 224.190088 \r\nL 227.570061 224.387396 \r\nL 229.91132 224.504067 \r\nL 234.593837 224.811438 \r\nL 235.764467 224.969369 \r\nL 239.276355 225.134699 \r\nL 243.958872 225.450076 \r\nL 245.129502 225.412623 \r\nL 253.323907 225.956577 \r\nL 256.835795 226.144885 \r\nL 263.859572 226.442323 \r\nL 265.030201 226.333464 \r\nL 266.20083 226.61524 \r\nL 272.053977 226.875603 \r\nL 293.125306 227.726662 \r\nL 294.295935 227.551157 \r\nL 295.466565 227.808757 \r\nL 300.149082 227.973035 \r\nL 302.490341 228.068108 \r\nL 309.514117 228.309882 \r\nL 313.026005 228.223156 \r\nL 314.196635 228.463429 \r\nL 322.39104 228.705157 \r\nL 327.073558 228.830319 \r\nL 328.244187 228.666021 \r\nL 329.414816 228.910721 \r\nL 337.609222 229.145963 \r\nL 338.779851 228.94722 \r\nL 339.950481 229.256553 \r\nL 341.12111 229.194411 \r\nL 343.462369 229.347573 \r\nL 349.315516 229.444911 \r\nL 357.509921 229.725561 \r\nL 358.680551 229.532825 \r\nL 359.85118 229.753401 \r\nL 363.363068 229.874489 \r\nL 363.363068 229.874489 \r\n\" style=\"fill:none;stroke:#1f77b4;stroke-linecap:square;stroke-width:1.5;\"/>\r\n   </g>\r\n   <g id=\"patch_3\">\r\n    <path d=\"M 43.78125 239.758125 \r\nL 43.78125 22.318125 \r\n\" style=\"fill:none;stroke:#000000;stroke-linecap:square;stroke-linejoin:miter;stroke-width:0.8;\"/>\r\n   </g>\r\n   <g id=\"patch_4\">\r\n    <path d=\"M 378.58125 239.758125 \r\nL 378.58125 22.318125 \r\n\" style=\"fill:none;stroke:#000000;stroke-linecap:square;stroke-linejoin:miter;stroke-width:0.8;\"/>\r\n   </g>\r\n   <g id=\"patch_5\">\r\n    <path d=\"M 43.78125 239.758125 \r\nL 378.58125 239.758125 \r\n\" style=\"fill:none;stroke:#000000;stroke-linecap:square;stroke-linejoin:miter;stroke-width:0.8;\"/>\r\n   </g>\r\n   <g id=\"patch_6\">\r\n    <path d=\"M 43.78125 22.318125 \r\nL 378.58125 22.318125 \r\n\" style=\"fill:none;stroke:#000000;stroke-linecap:square;stroke-linejoin:miter;stroke-width:0.8;\"/>\r\n   </g>\r\n   <g id=\"text_14\">\r\n    <!-- Learning rate =0.01 -->\r\n    <defs>\r\n     <path d=\"M 9.8125 72.90625 \r\nL 19.671875 72.90625 \r\nL 19.671875 8.296875 \r\nL 55.171875 8.296875 \r\nL 55.171875 0 \r\nL 9.8125 0 \r\nz\r\n\" id=\"DejaVuSans-76\"/>\r\n     <path d=\"M 34.28125 27.484375 \r\nQ 23.390625 27.484375 19.1875 25 \r\nQ 14.984375 22.515625 14.984375 16.5 \r\nQ 14.984375 11.71875 18.140625 8.90625 \r\nQ 21.296875 6.109375 26.703125 6.109375 \r\nQ 34.1875 6.109375 38.703125 11.40625 \r\nQ 43.21875 16.703125 43.21875 25.484375 \r\nL 43.21875 27.484375 \r\nz\r\nM 52.203125 31.203125 \r\nL 52.203125 0 \r\nL 43.21875 0 \r\nL 43.21875 8.296875 \r\nQ 40.140625 3.328125 35.546875 0.953125 \r\nQ 30.953125 -1.421875 24.3125 -1.421875 \r\nQ 15.921875 -1.421875 10.953125 3.296875 \r\nQ 6 8.015625 6 15.921875 \r\nQ 6 25.140625 12.171875 29.828125 \r\nQ 18.359375 34.515625 30.609375 34.515625 \r\nL 43.21875 34.515625 \r\nL 43.21875 35.40625 \r\nQ 43.21875 41.609375 39.140625 45 \r\nQ 35.0625 48.390625 27.6875 48.390625 \r\nQ 23 48.390625 18.546875 47.265625 \r\nQ 14.109375 46.140625 10.015625 43.890625 \r\nL 10.015625 52.203125 \r\nQ 14.9375 54.109375 19.578125 55.046875 \r\nQ 24.21875 56 28.609375 56 \r\nQ 40.484375 56 46.34375 49.84375 \r\nQ 52.203125 43.703125 52.203125 31.203125 \r\nz\r\n\" id=\"DejaVuSans-97\"/>\r\n     <path d=\"M 41.109375 46.296875 \r\nQ 39.59375 47.171875 37.8125 47.578125 \r\nQ 36.03125 48 33.890625 48 \r\nQ 26.265625 48 22.1875 43.046875 \r\nQ 18.109375 38.09375 18.109375 28.8125 \r\nL 18.109375 0 \r\nL 9.078125 0 \r\nL 9.078125 54.6875 \r\nL 18.109375 54.6875 \r\nL 18.109375 46.1875 \r\nQ 20.953125 51.171875 25.484375 53.578125 \r\nQ 30.03125 56 36.53125 56 \r\nQ 37.453125 56 38.578125 55.875 \r\nQ 39.703125 55.765625 41.0625 55.515625 \r\nz\r\n\" id=\"DejaVuSans-114\"/>\r\n     <path d=\"M 54.890625 33.015625 \r\nL 54.890625 0 \r\nL 45.90625 0 \r\nL 45.90625 32.71875 \r\nQ 45.90625 40.484375 42.875 44.328125 \r\nQ 39.84375 48.1875 33.796875 48.1875 \r\nQ 26.515625 48.1875 22.3125 43.546875 \r\nQ 18.109375 38.921875 18.109375 30.90625 \r\nL 18.109375 0 \r\nL 9.078125 0 \r\nL 9.078125 54.6875 \r\nL 18.109375 54.6875 \r\nL 18.109375 46.1875 \r\nQ 21.34375 51.125 25.703125 53.5625 \r\nQ 30.078125 56 35.796875 56 \r\nQ 45.21875 56 50.046875 50.171875 \r\nQ 54.890625 44.34375 54.890625 33.015625 \r\nz\r\n\" id=\"DejaVuSans-110\"/>\r\n     <path d=\"M 9.421875 54.6875 \r\nL 18.40625 54.6875 \r\nL 18.40625 0 \r\nL 9.421875 0 \r\nz\r\nM 9.421875 75.984375 \r\nL 18.40625 75.984375 \r\nL 18.40625 64.59375 \r\nL 9.421875 64.59375 \r\nz\r\n\" id=\"DejaVuSans-105\"/>\r\n     <path d=\"M 45.40625 27.984375 \r\nQ 45.40625 37.75 41.375 43.109375 \r\nQ 37.359375 48.484375 30.078125 48.484375 \r\nQ 22.859375 48.484375 18.828125 43.109375 \r\nQ 14.796875 37.75 14.796875 27.984375 \r\nQ 14.796875 18.265625 18.828125 12.890625 \r\nQ 22.859375 7.515625 30.078125 7.515625 \r\nQ 37.359375 7.515625 41.375 12.890625 \r\nQ 45.40625 18.265625 45.40625 27.984375 \r\nz\r\nM 54.390625 6.78125 \r\nQ 54.390625 -7.171875 48.1875 -13.984375 \r\nQ 42 -20.796875 29.203125 -20.796875 \r\nQ 24.46875 -20.796875 20.265625 -20.09375 \r\nQ 16.0625 -19.390625 12.109375 -17.921875 \r\nL 12.109375 -9.1875 \r\nQ 16.0625 -11.328125 19.921875 -12.34375 \r\nQ 23.78125 -13.375 27.78125 -13.375 \r\nQ 36.625 -13.375 41.015625 -8.765625 \r\nQ 45.40625 -4.15625 45.40625 5.171875 \r\nL 45.40625 9.625 \r\nQ 42.625 4.78125 38.28125 2.390625 \r\nQ 33.9375 0 27.875 0 \r\nQ 17.828125 0 11.671875 7.65625 \r\nQ 5.515625 15.328125 5.515625 27.984375 \r\nQ 5.515625 40.671875 11.671875 48.328125 \r\nQ 17.828125 56 27.875 56 \r\nQ 33.9375 56 38.28125 53.609375 \r\nQ 42.625 51.21875 45.40625 46.390625 \r\nL 45.40625 54.6875 \r\nL 54.390625 54.6875 \r\nz\r\n\" id=\"DejaVuSans-103\"/>\r\n     <path d=\"M 10.59375 45.40625 \r\nL 73.1875 45.40625 \r\nL 73.1875 37.203125 \r\nL 10.59375 37.203125 \r\nz\r\nM 10.59375 25.484375 \r\nL 73.1875 25.484375 \r\nL 73.1875 17.1875 \r\nL 10.59375 17.1875 \r\nz\r\n\" id=\"DejaVuSans-61\"/>\r\n    </defs>\r\n    <g transform=\"translate(150.535313 16.318125)scale(0.12 -0.12)\">\r\n     <use xlink:href=\"#DejaVuSans-76\"/>\r\n     <use x=\"55.697266\" xlink:href=\"#DejaVuSans-101\"/>\r\n     <use x=\"117.220703\" xlink:href=\"#DejaVuSans-97\"/>\r\n     <use x=\"178.5\" xlink:href=\"#DejaVuSans-114\"/>\r\n     <use x=\"219.597656\" xlink:href=\"#DejaVuSans-110\"/>\r\n     <use x=\"282.976562\" xlink:href=\"#DejaVuSans-105\"/>\r\n     <use x=\"310.759766\" xlink:href=\"#DejaVuSans-110\"/>\r\n     <use x=\"374.138672\" xlink:href=\"#DejaVuSans-103\"/>\r\n     <use x=\"437.615234\" xlink:href=\"#DejaVuSans-32\"/>\r\n     <use x=\"469.402344\" xlink:href=\"#DejaVuSans-114\"/>\r\n     <use x=\"510.515625\" xlink:href=\"#DejaVuSans-97\"/>\r\n     <use x=\"571.794922\" xlink:href=\"#DejaVuSans-116\"/>\r\n     <use x=\"611.003906\" xlink:href=\"#DejaVuSans-101\"/>\r\n     <use x=\"672.527344\" xlink:href=\"#DejaVuSans-32\"/>\r\n     <use x=\"704.314453\" xlink:href=\"#DejaVuSans-61\"/>\r\n     <use x=\"788.103516\" xlink:href=\"#DejaVuSans-48\"/>\r\n     <use x=\"851.726562\" xlink:href=\"#DejaVuSans-46\"/>\r\n     <use x=\"883.513672\" xlink:href=\"#DejaVuSans-48\"/>\r\n     <use x=\"947.136719\" xlink:href=\"#DejaVuSans-49\"/>\r\n    </g>\r\n   </g>\r\n  </g>\r\n </g>\r\n <defs>\r\n  <clipPath id=\"p4801ce1826\">\r\n   <rect height=\"217.44\" width=\"334.8\" x=\"43.78125\" y=\"22.318125\"/>\r\n  </clipPath>\r\n </defs>\r\n</svg>\r\n",
      "text/plain": "<Figure size 432x288 with 1 Axes>"
     },
     "metadata": {
      "needs_background": "light"
     },
     "output_type": "display_data"
    },
    {
     "name": "stdout",
     "output_type": "stream",
     "text": "Accuracy of the model: 50.72%\nC:\\Python\\Python36\\lib\\site-packages\\ipykernel_launcher.py:11: RuntimeWarning: invalid value encountered in less_equal\n  # This is added back by InteractiveShellApp.init_path()\n"
    }
   ],
   "source": [
    "# Check if the deep neural network is working\n",
    "weight, bias = improved_deep_neural_network(nb_layer, neuron_quantity, activations, X, Y, learning_rate=0.01, epoch=2500, batch_size=128, beta1=0.9)\n",
    "\n",
    "# Check if the prediction function works well\n",
    "result = predict(X, weight, bias, nb_layer, activations)\n",
    "accuracy = model_accuracy(result, Y)\n",
    "\n",
    "# Tuning back the results from one-hot encoding to categorical values\n",
    "# This will allow us to have a better comparison when comparing with the picture\n",
    "Y = np.where(Y == 0, 2, 3)\n",
    "result = np.where(result == 0, 2, 3)\n",
    "\n",
    "print(\"Accuracy of the model: {0:.2f}%\".format(accuracy*100))"
   ]
  },
  {
   "cell_type": "code",
   "execution_count": 25,
   "metadata": {},
   "outputs": [
    {
     "name": "stdout",
     "output_type": "stream",
     "text": "Result was: [2]\nPrediction was: [3]\n"
    },
    {
     "data": {
      "text/plain": "<matplotlib.image.AxesImage at 0x1ab84a5f2e8>"
     },
     "execution_count": 25,
     "metadata": {},
     "output_type": "execute_result"
    },
    {
     "data": {
      "image/png": "[encoded data removed]",
      "image/svg+xml": "<?xml version=\"1.0\" encoding=\"utf-8\" standalone=\"no\"?>\r\n<!DOCTYPE svg PUBLIC \"-//W3C//DTD SVG 1.1//EN\"\r\n  \"http://www.w3.org/Graphics/SVG/1.1/DTD/svg11.dtd\">\r\n<!-- Created with matplotlib (https://matplotlib.org/) -->\r\n<svg height=\"252.018125pt\" version=\"1.1\" viewBox=\"0 0 255.065 252.018125\" width=\"255.065pt\" xmlns=\"http://www.w3.org/2000/svg\" xmlns:xlink=\"http://www.w3.org/1999/xlink\">\r\n <defs>\r\n  <style type=\"text/css\">\r\n*{stroke-linecap:butt;stroke-linejoin:round;}\r\n  </style>\r\n </defs>\r\n <g id=\"figure_1\">\r\n  <g id=\"patch_1\">\r\n   <path d=\"M 0 252.018125 \r\nL 255.065 252.018125 \r\nL 255.065 0 \r\nL 0 0 \r\nz\r\n\" style=\"fill:none;\"/>\r\n  </g>\r\n  <g id=\"axes_1\">\r\n   <g id=\"patch_2\">\r\n    <path d=\"M 26.925 228.14 \r\nL 244.365 228.14 \r\nL 244.365 10.7 \r\nL 26.925 10.7 \r\nz\r\n\" style=\"fill:#ffffff;\"/>\r\n   </g>\r\n   <g clip-path=\"url(#p7019ca54be)\">\r\n    <image height=\"218\" id=\"image7bfbb3c681\" transform=\"scale(1 -1)translate(0 -218)\" width=\"218\" x=\"26.925\" xlink:href=\"data:image/png;base64,\r\niVBORw0KGgoAAAANSUhEUgAAANoAAADaCAYAAADAHVzbAAAABHNCSVQICAgIfAhkiAAABpBJREFUeJzt3V+o3gUdx/Hf2Y7uT405E1eQ0w1as8gJS52jGCOtmIXN1GJjF0OIwhW2ObwxyIjVRfZvS1cyps3UQpoEQoZdDMJslEGzzG1lLHFbCUdXWx7POVtXXQT+vgefZ8/nnOfs9br97PeHwfv84Px4zjNwzcCNpxugp6ZN9A3A2UBoECA0CBAaBAgNAoQGAUKDAKFBgNAgQGgQIDQIEBoECA0ChAYBQoMAoUGA0CBAaBAgNAgQGgQIDQKEBgGDE30DE+Wl21eU+zNf3Ba6kzfv0Mhwud+8/fZyv2jnc63b2NBQR/dEzRMNAoQGAUKDAKFBgNAgQGgQIDQIGJiqX9t0fO3ycn/ga3eX+8LBmWfydiaVr758Wev22P0ry2Pn7zvZ1bXP+cuR1m306LGuzj2ZeaJBgNAgQGgQIDQIEBoECA0ChAYBU/Y92sAV7yv3T+9+otzXzWl/30Pnbjq0unV78cFF5bFvu+/XZ/p2YjzRIEBoECA0CBAaBAgNAoQGAUKDgCn7Hm08B3ZcWe8fv7dn117y41vLffGX9vfs2uP525al5T649JWuzj8yMr11u2T9gfLY08P137OczDzRIEBoECA0CBAaBAgNAoQGAUKDgLP2+9GWbD9e7n/8yGi5v/fczv/rTs0ZK/fTr4/U+8jrHV97PAu+/FTPzj2eqfxC1xMNAoQGAUKDAKFBgNAgQGgQcNZ+TGY8J9dcVe4/+U79tU8XTJ/V8bUv/97ny/2dWyfuV/B0xhMNAoQGAUKDAKFBgNAgQGgQIDQI8B6tQ0dvW1Huv92yreNz//tU/WfVrnxoc7kvuqN/v95oqvJEgwChQYDQIEBoECA0CBAaBAgNArxH69DgwovLfdYPT7RuDy96oqtrv3rqtXL/0N1byv3t3/Z5tjRPNAgQGgQIDQKEBgFCgwChQYDQIMB7tB6ZPv/C1u38PfXXLu26+JddXfuzf19Z7keun926jR37R1fX5o15okGA0CBAaBAgNAgQGgQIDQIGJ/oGpqrq1+TPPlL/qbqhLY+X+7xpM8t9x0V7y/0DH97Yup2326/3e8ETDQKEBgFCgwChQYDQIEBoECA0CPAxmUnoha1Xl/uv1n+j3Md7z7ZveKB127h/bXnshdf/udx5Y55oECA0CBAaBAgNAoQGAUKDAKFBgPdofWj0yQXl/vNL93R87pfH/lPuN23aXO5vefQ3HV97KvNEgwChQYDQIEBoECA0CBAaBAgNArxH60PTLn9PuX/qkSfLfd2cIx1f+9DIcLlvuHNTuc998OmOr93PPNEgQGgQIDQIEBoECA0ChAYBQoMA79GmouWXlfNdD+1q3ZbN6O7StxxeVe7Hrj7e3QX6lCcaBAgNAoQGAUKDAKFBgNAgYHCib6AbJ268qnX759L6Z8iMofavLmqapnnHN5/q6J4mhaf/UM7rH93Yum3+2M/KY2+Ze7jcr5n3p3L/0fLV7eM4993PPNEgQGgQIDQIEBoECA0ChAYBQoOAvv6YzMH7l7Vuz1/7g/LYx0/OLfdvbVpb7jOP1V9v1OzbX++T1MHt7e8mm6Zpnl9zT1fn33Pi/NZt5+KFXZ17MvNEgwChQYDQIEBoECA0CBAaBAgNAvr682inx+rPlFWum/1qve+4t9yr90FN0zR37L25dXv3535fHnt6dLTce+nSr79Y/4M13Z1/9exjrdvWL6wrj53/3f79jKAnGgQIDQKEBgFCgwChQYDQIEBoENDXn0erHNj5/nL//soHyn3VrNfO5O38n48+V7+MmnHDK+U+dry7rz46etuK1u0TG/aWx955Qe/+9uLiX3ym3jf8rmfX7jVPNAgQGgQIDQKEBgFCgwChQYDQIGDKvkcbz/B1V5T7sq/U72zuml9/NmrGwDlv+p7+Z9vQu8r95KlzOz530zTNrfOead3eOm1GV+d+YbR+/3jDPVtatwU/PVoeO3bwrx3d02TgiQYBQoMAoUGA0CBAaBAgNAg4a3+9363qK6OapmkOXntf67bq2U+Wx+5asrvcLxmcXe69NH2g/tm84fAHy/2l5f86k7fTNzzRIEBoECA0CBAaBAgNAoQGAUKDAO/RIMATDQKEBgFCgwChQYDQIEBoECA0CBAaBAgNAoQGAUKDAKFBgNAgQGgQIDQIEBoECA0ChAYBQoMAoUGA0CBAaBAgNAgQGgQIDQKEBgFCgwChQYDQIEBoECA0CBAaBAgNAoQGAUKDAKFBgNAgQGgQ8F/xlQTWfRCYrAAAAABJRU5ErkJggg==\" y=\"-10.14\"/>\r\n   </g>\r\n   <g id=\"matplotlib.axis_1\">\r\n    <g id=\"xtick_1\">\r\n     <g id=\"line2d_1\">\r\n      <defs>\r\n       <path d=\"M 0 0 \r\nL 0 3.5 \r\n\" id=\"m6db8e270a7\" style=\"stroke:#000000;stroke-width:0.8;\"/>\r\n      </defs>\r\n      <g>\r\n       <use style=\"stroke:#000000;stroke-width:0.8;\" x=\"30.807857\" xlink:href=\"#m6db8e270a7\" y=\"228.14\"/>\r\n      </g>\r\n     </g>\r\n     <g id=\"text_1\">\r\n      <!-- 0 -->\r\n      <defs>\r\n       <path d=\"M 31.78125 66.40625 \r\nQ 24.171875 66.40625 20.328125 58.90625 \r\nQ 16.5 51.421875 16.5 36.375 \r\nQ 16.5 21.390625 20.328125 13.890625 \r\nQ 24.171875 6.390625 31.78125 6.390625 \r\nQ 39.453125 6.390625 43.28125 13.890625 \r\nQ 47.125 21.390625 47.125 36.375 \r\nQ 47.125 51.421875 43.28125 58.90625 \r\nQ 39.453125 66.40625 31.78125 66.40625 \r\nz\r\nM 31.78125 74.21875 \r\nQ 44.046875 74.21875 50.515625 64.515625 \r\nQ 56.984375 54.828125 56.984375 36.375 \r\nQ 56.984375 17.96875 50.515625 8.265625 \r\nQ 44.046875 -1.421875 31.78125 -1.421875 \r\nQ 19.53125 -1.421875 13.0625 8.265625 \r\nQ 6.59375 17.96875 6.59375 36.375 \r\nQ 6.59375 54.828125 13.0625 64.515625 \r\nQ 19.53125 74.21875 31.78125 74.21875 \r\nz\r\n\" id=\"DejaVuSans-48\"/>\r\n      </defs>\r\n      <g transform=\"translate(27.626607 242.738437)scale(0.1 -0.1)\">\r\n       <use xlink:href=\"#DejaVuSans-48\"/>\r\n      </g>\r\n     </g>\r\n    </g>\r\n    <g id=\"xtick_2\">\r\n     <g id=\"line2d_2\">\r\n      <g>\r\n       <use style=\"stroke:#000000;stroke-width:0.8;\" x=\"69.636429\" xlink:href=\"#m6db8e270a7\" y=\"228.14\"/>\r\n      </g>\r\n     </g>\r\n     <g id=\"text_2\">\r\n      <!-- 5 -->\r\n      <defs>\r\n       <path d=\"M 10.796875 72.90625 \r\nL 49.515625 72.90625 \r\nL 49.515625 64.59375 \r\nL 19.828125 64.59375 \r\nL 19.828125 46.734375 \r\nQ 21.96875 47.46875 24.109375 47.828125 \r\nQ 26.265625 48.1875 28.421875 48.1875 \r\nQ 40.625 48.1875 47.75 41.5 \r\nQ 54.890625 34.8125 54.890625 23.390625 \r\nQ 54.890625 11.625 47.5625 5.09375 \r\nQ 40.234375 -1.421875 26.90625 -1.421875 \r\nQ 22.3125 -1.421875 17.546875 -0.640625 \r\nQ 12.796875 0.140625 7.71875 1.703125 \r\nL 7.71875 11.625 \r\nQ 12.109375 9.234375 16.796875 8.0625 \r\nQ 21.484375 6.890625 26.703125 6.890625 \r\nQ 35.15625 6.890625 40.078125 11.328125 \r\nQ 45.015625 15.765625 45.015625 23.390625 \r\nQ 45.015625 31 40.078125 35.4375 \r\nQ 35.15625 39.890625 26.703125 39.890625 \r\nQ 22.75 39.890625 18.8125 39.015625 \r\nQ 14.890625 38.140625 10.796875 36.28125 \r\nz\r\n\" id=\"DejaVuSans-53\"/>\r\n      </defs>\r\n      <g transform=\"translate(66.455179 242.738437)scale(0.1 -0.1)\">\r\n       <use xlink:href=\"#DejaVuSans-53\"/>\r\n      </g>\r\n     </g>\r\n    </g>\r\n    <g id=\"xtick_3\">\r\n     <g id=\"line2d_3\">\r\n      <g>\r\n       <use style=\"stroke:#000000;stroke-width:0.8;\" x=\"108.465\" xlink:href=\"#m6db8e270a7\" y=\"228.14\"/>\r\n      </g>\r\n     </g>\r\n     <g id=\"text_3\">\r\n      <!-- 10 -->\r\n      <defs>\r\n       <path d=\"M 12.40625 8.296875 \r\nL 28.515625 8.296875 \r\nL 28.515625 63.921875 \r\nL 10.984375 60.40625 \r\nL 10.984375 69.390625 \r\nL 28.421875 72.90625 \r\nL 38.28125 72.90625 \r\nL 38.28125 8.296875 \r\nL 54.390625 8.296875 \r\nL 54.390625 0 \r\nL 12.40625 0 \r\nz\r\n\" id=\"DejaVuSans-49\"/>\r\n      </defs>\r\n      <g transform=\"translate(102.1025 242.738437)scale(0.1 -0.1)\">\r\n       <use xlink:href=\"#DejaVuSans-49\"/>\r\n       <use x=\"63.623047\" xlink:href=\"#DejaVuSans-48\"/>\r\n      </g>\r\n     </g>\r\n    </g>\r\n    <g id=\"xtick_4\">\r\n     <g id=\"line2d_4\">\r\n      <g>\r\n       <use style=\"stroke:#000000;stroke-width:0.8;\" x=\"147.293571\" xlink:href=\"#m6db8e270a7\" y=\"228.14\"/>\r\n      </g>\r\n     </g>\r\n     <g id=\"text_4\">\r\n      <!-- 15 -->\r\n      <g transform=\"translate(140.931071 242.738437)scale(0.1 -0.1)\">\r\n       <use xlink:href=\"#DejaVuSans-49\"/>\r\n       <use x=\"63.623047\" xlink:href=\"#DejaVuSans-53\"/>\r\n      </g>\r\n     </g>\r\n    </g>\r\n    <g id=\"xtick_5\">\r\n     <g id=\"line2d_5\">\r\n      <g>\r\n       <use style=\"stroke:#000000;stroke-width:0.8;\" x=\"186.122143\" xlink:href=\"#m6db8e270a7\" y=\"228.14\"/>\r\n      </g>\r\n     </g>\r\n     <g id=\"text_5\">\r\n      <!-- 20 -->\r\n      <defs>\r\n       <path d=\"M 19.1875 8.296875 \r\nL 53.609375 8.296875 \r\nL 53.609375 0 \r\nL 7.328125 0 \r\nL 7.328125 8.296875 \r\nQ 12.9375 14.109375 22.625 23.890625 \r\nQ 32.328125 33.6875 34.8125 36.53125 \r\nQ 39.546875 41.84375 41.421875 45.53125 \r\nQ 43.3125 49.21875 43.3125 52.78125 \r\nQ 43.3125 58.59375 39.234375 62.25 \r\nQ 35.15625 65.921875 28.609375 65.921875 \r\nQ 23.96875 65.921875 18.8125 64.3125 \r\nQ 13.671875 62.703125 7.8125 59.421875 \r\nL 7.8125 69.390625 \r\nQ 13.765625 71.78125 18.9375 73 \r\nQ 24.125 74.21875 28.421875 74.21875 \r\nQ 39.75 74.21875 46.484375 68.546875 \r\nQ 53.21875 62.890625 53.21875 53.421875 \r\nQ 53.21875 48.921875 51.53125 44.890625 \r\nQ 49.859375 40.875 45.40625 35.40625 \r\nQ 44.1875 33.984375 37.640625 27.21875 \r\nQ 31.109375 20.453125 19.1875 8.296875 \r\nz\r\n\" id=\"DejaVuSans-50\"/>\r\n      </defs>\r\n      <g transform=\"translate(179.759643 242.738437)scale(0.1 -0.1)\">\r\n       <use xlink:href=\"#DejaVuSans-50\"/>\r\n       <use x=\"63.623047\" xlink:href=\"#DejaVuSans-48\"/>\r\n      </g>\r\n     </g>\r\n    </g>\r\n    <g id=\"xtick_6\">\r\n     <g id=\"line2d_6\">\r\n      <g>\r\n       <use style=\"stroke:#000000;stroke-width:0.8;\" x=\"224.950714\" xlink:href=\"#m6db8e270a7\" y=\"228.14\"/>\r\n      </g>\r\n     </g>\r\n     <g id=\"text_6\">\r\n      <!-- 25 -->\r\n      <g transform=\"translate(218.588214 242.738437)scale(0.1 -0.1)\">\r\n       <use xlink:href=\"#DejaVuSans-50\"/>\r\n       <use x=\"63.623047\" xlink:href=\"#DejaVuSans-53\"/>\r\n      </g>\r\n     </g>\r\n    </g>\r\n   </g>\r\n   <g id=\"matplotlib.axis_2\">\r\n    <g id=\"ytick_1\">\r\n     <g id=\"line2d_7\">\r\n      <defs>\r\n       <path d=\"M 0 0 \r\nL -3.5 0 \r\n\" id=\"m1f5ebf6fe9\" style=\"stroke:#000000;stroke-width:0.8;\"/>\r\n      </defs>\r\n      <g>\r\n       <use style=\"stroke:#000000;stroke-width:0.8;\" x=\"26.925\" xlink:href=\"#m1f5ebf6fe9\" y=\"14.582857\"/>\r\n      </g>\r\n     </g>\r\n     <g id=\"text_7\">\r\n      <!-- 0 -->\r\n      <g transform=\"translate(13.5625 18.382076)scale(0.1 -0.1)\">\r\n       <use xlink:href=\"#DejaVuSans-48\"/>\r\n      </g>\r\n     </g>\r\n    </g>\r\n    <g id=\"ytick_2\">\r\n     <g id=\"line2d_8\">\r\n      <g>\r\n       <use style=\"stroke:#000000;stroke-width:0.8;\" x=\"26.925\" xlink:href=\"#m1f5ebf6fe9\" y=\"53.411429\"/>\r\n      </g>\r\n     </g>\r\n     <g id=\"text_8\">\r\n      <!-- 5 -->\r\n      <g transform=\"translate(13.5625 57.210647)scale(0.1 -0.1)\">\r\n       <use xlink:href=\"#DejaVuSans-53\"/>\r\n      </g>\r\n     </g>\r\n    </g>\r\n    <g id=\"ytick_3\">\r\n     <g id=\"line2d_9\">\r\n      <g>\r\n       <use style=\"stroke:#000000;stroke-width:0.8;\" x=\"26.925\" xlink:href=\"#m1f5ebf6fe9\" y=\"92.24\"/>\r\n      </g>\r\n     </g>\r\n     <g id=\"text_9\">\r\n      <!-- 10 -->\r\n      <g transform=\"translate(7.2 96.039219)scale(0.1 -0.1)\">\r\n       <use xlink:href=\"#DejaVuSans-49\"/>\r\n       <use x=\"63.623047\" xlink:href=\"#DejaVuSans-48\"/>\r\n      </g>\r\n     </g>\r\n    </g>\r\n    <g id=\"ytick_4\">\r\n     <g id=\"line2d_10\">\r\n      <g>\r\n       <use style=\"stroke:#000000;stroke-width:0.8;\" x=\"26.925\" xlink:href=\"#m1f5ebf6fe9\" y=\"131.068571\"/>\r\n      </g>\r\n     </g>\r\n     <g id=\"text_10\">\r\n      <!-- 15 -->\r\n      <g transform=\"translate(7.2 134.86779)scale(0.1 -0.1)\">\r\n       <use xlink:href=\"#DejaVuSans-49\"/>\r\n       <use x=\"63.623047\" xlink:href=\"#DejaVuSans-53\"/>\r\n      </g>\r\n     </g>\r\n    </g>\r\n    <g id=\"ytick_5\">\r\n     <g id=\"line2d_11\">\r\n      <g>\r\n       <use style=\"stroke:#000000;stroke-width:0.8;\" x=\"26.925\" xlink:href=\"#m1f5ebf6fe9\" y=\"169.897143\"/>\r\n      </g>\r\n     </g>\r\n     <g id=\"text_11\">\r\n      <!-- 20 -->\r\n      <g transform=\"translate(7.2 173.696362)scale(0.1 -0.1)\">\r\n       <use xlink:href=\"#DejaVuSans-50\"/>\r\n       <use x=\"63.623047\" xlink:href=\"#DejaVuSans-48\"/>\r\n      </g>\r\n     </g>\r\n    </g>\r\n    <g id=\"ytick_6\">\r\n     <g id=\"line2d_12\">\r\n      <g>\r\n       <use style=\"stroke:#000000;stroke-width:0.8;\" x=\"26.925\" xlink:href=\"#m1f5ebf6fe9\" y=\"208.725714\"/>\r\n      </g>\r\n     </g>\r\n     <g id=\"text_12\">\r\n      <!-- 25 -->\r\n      <g transform=\"translate(7.2 212.524933)scale(0.1 -0.1)\">\r\n       <use xlink:href=\"#DejaVuSans-50\"/>\r\n       <use x=\"63.623047\" xlink:href=\"#DejaVuSans-53\"/>\r\n      </g>\r\n     </g>\r\n    </g>\r\n   </g>\r\n   <g id=\"patch_3\">\r\n    <path d=\"M 26.925 228.14 \r\nL 26.925 10.7 \r\n\" style=\"fill:none;stroke:#000000;stroke-linecap:square;stroke-linejoin:miter;stroke-width:0.8;\"/>\r\n   </g>\r\n   <g id=\"patch_4\">\r\n    <path d=\"M 244.365 228.14 \r\nL 244.365 10.7 \r\n\" style=\"fill:none;stroke:#000000;stroke-linecap:square;stroke-linejoin:miter;stroke-width:0.8;\"/>\r\n   </g>\r\n   <g id=\"patch_5\">\r\n    <path d=\"M 26.925 228.14 \r\nL 244.365 228.14 \r\n\" style=\"fill:none;stroke:#000000;stroke-linecap:square;stroke-linejoin:miter;stroke-width:0.8;\"/>\r\n   </g>\r\n   <g id=\"patch_6\">\r\n    <path d=\"M 26.925 10.7 \r\nL 244.365 10.7 \r\n\" style=\"fill:none;stroke:#000000;stroke-linecap:square;stroke-linejoin:miter;stroke-width:0.8;\"/>\r\n   </g>\r\n  </g>\r\n </g>\r\n <defs>\r\n  <clipPath id=\"p7019ca54be\">\r\n   <rect height=\"217.44\" width=\"217.44\" x=\"26.925\" y=\"10.7\"/>\r\n  </clipPath>\r\n </defs>\r\n</svg>\r\n",
      "text/plain": "<Figure size 432x288 with 1 Axes>"
     },
     "metadata": {
      "needs_background": "light"
     },
     "output_type": "display_data"
    }
   ],
   "source": [
    "# Checking if the Neural Network learned properly with images\n",
    "ind = 55\n",
    "print(\"Result was: {0}\".format(Y[ind]))\n",
    "print(\"Prediction was: {0}\".format(result[ind]))\n",
    "plt.imshow(A[\"0\"][ind].reshape(28,28))"
   ]
  },
  {
   "cell_type": "code",
   "execution_count": 26,
   "metadata": {},
   "outputs": [
    {
     "name": "stdout",
     "output_type": "stream",
     "text": "The model predicted wrong 5958 times, or 49.28% of the time\n"
    }
   ],
   "source": [
    "# Checking where we are wrong\n",
    "list_error = [i for i, x in enumerate(Y != result) if x]\n",
    "error_rate = len(list_error) / len(Y) * 100\n",
    "print(\"The model predicted wrong {0} times, or {1:.2f}% of the time\".format(len(list_error), error_rate))"
   ]
  },
  {
   "cell_type": "markdown",
   "execution_count": null,
   "metadata": {},
   "outputs": [],
   "source": [
    "To Do:  \n",
    "Implement possibility for different weight initialization  \n",
    "Different Cost function for different purposes  \n",
    "Different NN architecture (included CNN/RNN)  \n",
    "Testing stability  \n",
    "Explain \"symmetry break\" issue when setting parameters to 0  \n",
    "Appendix with demonstration of each calculus"
   ]
  }
 ],
 "metadata": {
  "file_extension": ".py",
  "kernelspec": {
   "display_name": "Python 3.6.8 64-bit",
   "language": "python",
   "name": "python36864bita6faa0f504cb47b9b202f4621b79fec8"
  },
  "language_info": {
   "codemirror_mode": {
    "name": "ipython",
    "version": 3
   },
   "file_extension": ".py",
   "mimetype": "text/x-python",
   "name": "python",
   "nbconvert_exporter": "python",
   "pygments_lexer": "ipython3",
   "version": "3.6.8-final"
  },
  "mimetype": "text/x-python",
  "name": "python",
  "npconvert_exporter": "python",
  "pygments_lexer": "ipython3",
  "version": 3
 },
 "nbformat": 4,
 "nbformat_minor": 2
}